{
 "cells": [
  {
   "cell_type": "markdown",
   "metadata": {},
   "source": [
    "# Проектная работа \n",
    "# Отток клиентов"
   ]
  },
  {
   "cell_type": "markdown",
   "metadata": {
    "toc": true
   },
   "source": [
    "<h1>Содержание<span class=\"tocSkip\"></span></h1>\n",
    "<div class=\"toc\"><ul class=\"toc-item\"><li><span><a href=\"#Подготовка-данных\" data-toc-modified-id=\"Подготовка-данных-1\"><span class=\"toc-item-num\">1&nbsp;&nbsp;</span>Подготовка данных</a></span></li><li><span><a href=\"#Исследование-задачи\" data-toc-modified-id=\"Исследование-задачи-2\"><span class=\"toc-item-num\">2&nbsp;&nbsp;</span>Исследование задачи</a></span></li><li><span><a href=\"#Исследуйте-баланс-классов\" data-toc-modified-id=\"Исследуйте-баланс-классов-3\"><span class=\"toc-item-num\">3&nbsp;&nbsp;</span>Исследуйте баланс классов</a></span></li><li><span><a href=\"#Борьба-с-дисбалансом\" data-toc-modified-id=\"Борьба-с-дисбалансом-4\"><span class=\"toc-item-num\">4&nbsp;&nbsp;</span>Борьба с дисбалансом</a></span></li><li><span><a href=\"#Тестирование-модели\" data-toc-modified-id=\"Тестирование-модели-5\"><span class=\"toc-item-num\">5&nbsp;&nbsp;</span>Тестирование модели</a></span></li><li><span><a href=\"#Вывод\" data-toc-modified-id=\"Вывод-6\"><span class=\"toc-item-num\">6&nbsp;&nbsp;</span>Вывод</a></span></li><li><span><a href=\"#Чек-лист-готовности-проекта\" data-toc-modified-id=\"Чек-лист-готовности-проекта-7\"><span class=\"toc-item-num\">7&nbsp;&nbsp;</span>Чек-лист готовности проекта</a></span></li></ul></div>"
   ]
  },
  {
   "cell_type": "markdown",
   "metadata": {},
   "source": [
    "**Описание проекта:** из «Бета-Банка» стали регулярно уходить клиенты в небольшом, но заметном количестве. По прогнозам банковских маркетологов - сохранять текущих клиентов дешевле, чем привлекать новых. Для анализа предоставлены исторические данные о поведении клиентов и расторжении договоров с банком. \n",
    "\n",
    "**Цель исследования:** спрогнозировать, уйдёт клиент из банка в ближайшее время или нет (для этого построить модель с предельно большим значением *F1*-меры (довести метрику до 0.59 и проверить ее  на тестовой выборке).\n",
    "\n",
    "**План работы:**\n",
    "\n",
    "*изучение и подготовка данных\n",
    "\n",
    "*преобразование и разделение данных\n",
    "\n",
    "*обучение моделей без учёта дисбаланса\n",
    "\n",
    "*исследование баланса классов\n",
    "\n",
    "*обучение моделей сучетом дисбаланса\n",
    "\n",
    "*выбор лучшей модели\n",
    "\n",
    "*проведение тестирования\n",
    "\n",
    "*вывод и рекомендации\n",
    "\n",
    "\n",
    "\n",
    "Источник данных: [https://www.kaggle.com/barelydedicated/bank-customer-churn-modeling](https://www.kaggle.com/barelydedicated/bank-customer-churn-modeling)\n",
    "\n",
    "**Признаки**\n",
    "\n",
    "RowNumber — индекс строки в данных\n",
    "\n",
    "CustomerId — уникальный идентификатор клиента\n",
    "\n",
    "Surname — фамилия\n",
    "\n",
    "CreditScore — кредитный рейтинг\n",
    "\n",
    "Geography — страна проживания\n",
    "\n",
    "Gender — пол\n",
    "\n",
    "Age — возраст\n",
    "\n",
    "Tenure — сколько лет человек является клиентом банка\n",
    "\n",
    "Balance — баланс на счёте\n",
    "\n",
    "NumOfProducts — количество продуктов банка, используемых клиентом\n",
    "\n",
    "HasCrCard — наличие кредитной карты\n",
    "\n",
    "IsActiveMember — активность клиента\n",
    "\n",
    "EstimatedSalary — предполагаемая зарплата\n",
    "\n",
    "**Целевой признак**\n",
    "\n",
    "Exited — факт ухода клиента"
   ]
  },
  {
   "cell_type": "markdown",
   "metadata": {},
   "source": [
    "## Подготовка данных"
   ]
  },
  {
   "cell_type": "code",
   "execution_count": 2,
   "metadata": {},
   "outputs": [],
   "source": [
    "# импортируем необходимые библиотеки\n",
    "\n",
    "import pandas as pd\n",
    "\n",
    "from sklearn.model_selection import train_test_split\n",
    "\n",
    "from sklearn.tree import DecisionTreeClassifier\n",
    "\n",
    "from sklearn.ensemble import RandomForestClassifier\n",
    "\n",
    "from sklearn.linear_model import LogisticRegression\n",
    "\n",
    "from sklearn.preprocessing import StandardScaler\n",
    "\n",
    "from sklearn.preprocessing import OrdinalEncoder\n",
    "\n",
    "from sklearn.metrics import recall_score\n",
    "\n",
    "from sklearn.metrics import precision_score\n",
    "\n",
    "from sklearn.metrics import f1_score\n",
    "\n",
    "from sklearn.utils import shuffle\n",
    "\n",
    "import matplotlib.pyplot as plt\n",
    "\n",
    "import numpy as np\n",
    "\n",
    "from sklearn.metrics import roc_auc_score"
   ]
  },
  {
   "cell_type": "code",
   "execution_count": 3,
   "metadata": {
    "scrolled": true
   },
   "outputs": [
    {
     "ename": "FileNotFoundError",
     "evalue": "[Errno 2] No such file or directory: '/datasets/Churn.csv'",
     "output_type": "error",
     "traceback": [
      "\u001b[1;31m---------------------------------------------------------------------------\u001b[0m",
      "\u001b[1;31mFileNotFoundError\u001b[0m                         Traceback (most recent call last)",
      "\u001b[1;32mC:\\Users\\0D04~1\\AppData\\Local\\Temp/ipykernel_6584/909110758.py\u001b[0m in \u001b[0;36m<module>\u001b[1;34m\u001b[0m\n\u001b[0;32m      1\u001b[0m \u001b[1;31m# Откроем и изучим файл\u001b[0m\u001b[1;33m\u001b[0m\u001b[1;33m\u001b[0m\u001b[0m\n\u001b[0;32m      2\u001b[0m \u001b[1;33m\u001b[0m\u001b[0m\n\u001b[1;32m----> 3\u001b[1;33m \u001b[0mdf\u001b[0m \u001b[1;33m=\u001b[0m \u001b[0mpd\u001b[0m\u001b[1;33m.\u001b[0m\u001b[0mread_csv\u001b[0m\u001b[1;33m(\u001b[0m\u001b[1;34m'/datasets/Churn.csv'\u001b[0m\u001b[1;33m)\u001b[0m\u001b[1;33m\u001b[0m\u001b[1;33m\u001b[0m\u001b[0m\n\u001b[0m\u001b[0;32m      4\u001b[0m \u001b[1;33m\u001b[0m\u001b[0m\n\u001b[0;32m      5\u001b[0m \u001b[0mdf\u001b[0m\u001b[1;33m\u001b[0m\u001b[1;33m\u001b[0m\u001b[0m\n",
      "\u001b[1;32mC:\\anaconda\\lib\\site-packages\\pandas\\util\\_decorators.py\u001b[0m in \u001b[0;36mwrapper\u001b[1;34m(*args, **kwargs)\u001b[0m\n\u001b[0;32m    309\u001b[0m                     \u001b[0mstacklevel\u001b[0m\u001b[1;33m=\u001b[0m\u001b[0mstacklevel\u001b[0m\u001b[1;33m,\u001b[0m\u001b[1;33m\u001b[0m\u001b[1;33m\u001b[0m\u001b[0m\n\u001b[0;32m    310\u001b[0m                 )\n\u001b[1;32m--> 311\u001b[1;33m             \u001b[1;32mreturn\u001b[0m \u001b[0mfunc\u001b[0m\u001b[1;33m(\u001b[0m\u001b[1;33m*\u001b[0m\u001b[0margs\u001b[0m\u001b[1;33m,\u001b[0m \u001b[1;33m**\u001b[0m\u001b[0mkwargs\u001b[0m\u001b[1;33m)\u001b[0m\u001b[1;33m\u001b[0m\u001b[1;33m\u001b[0m\u001b[0m\n\u001b[0m\u001b[0;32m    312\u001b[0m \u001b[1;33m\u001b[0m\u001b[0m\n\u001b[0;32m    313\u001b[0m         \u001b[1;32mreturn\u001b[0m \u001b[0mwrapper\u001b[0m\u001b[1;33m\u001b[0m\u001b[1;33m\u001b[0m\u001b[0m\n",
      "\u001b[1;32mC:\\anaconda\\lib\\site-packages\\pandas\\io\\parsers\\readers.py\u001b[0m in \u001b[0;36mread_csv\u001b[1;34m(filepath_or_buffer, sep, delimiter, header, names, index_col, usecols, squeeze, prefix, mangle_dupe_cols, dtype, engine, converters, true_values, false_values, skipinitialspace, skiprows, skipfooter, nrows, na_values, keep_default_na, na_filter, verbose, skip_blank_lines, parse_dates, infer_datetime_format, keep_date_col, date_parser, dayfirst, cache_dates, iterator, chunksize, compression, thousands, decimal, lineterminator, quotechar, quoting, doublequote, escapechar, comment, encoding, encoding_errors, dialect, error_bad_lines, warn_bad_lines, on_bad_lines, delim_whitespace, low_memory, memory_map, float_precision, storage_options)\u001b[0m\n\u001b[0;32m    584\u001b[0m     \u001b[0mkwds\u001b[0m\u001b[1;33m.\u001b[0m\u001b[0mupdate\u001b[0m\u001b[1;33m(\u001b[0m\u001b[0mkwds_defaults\u001b[0m\u001b[1;33m)\u001b[0m\u001b[1;33m\u001b[0m\u001b[1;33m\u001b[0m\u001b[0m\n\u001b[0;32m    585\u001b[0m \u001b[1;33m\u001b[0m\u001b[0m\n\u001b[1;32m--> 586\u001b[1;33m     \u001b[1;32mreturn\u001b[0m \u001b[0m_read\u001b[0m\u001b[1;33m(\u001b[0m\u001b[0mfilepath_or_buffer\u001b[0m\u001b[1;33m,\u001b[0m \u001b[0mkwds\u001b[0m\u001b[1;33m)\u001b[0m\u001b[1;33m\u001b[0m\u001b[1;33m\u001b[0m\u001b[0m\n\u001b[0m\u001b[0;32m    587\u001b[0m \u001b[1;33m\u001b[0m\u001b[0m\n\u001b[0;32m    588\u001b[0m \u001b[1;33m\u001b[0m\u001b[0m\n",
      "\u001b[1;32mC:\\anaconda\\lib\\site-packages\\pandas\\io\\parsers\\readers.py\u001b[0m in \u001b[0;36m_read\u001b[1;34m(filepath_or_buffer, kwds)\u001b[0m\n\u001b[0;32m    480\u001b[0m \u001b[1;33m\u001b[0m\u001b[0m\n\u001b[0;32m    481\u001b[0m     \u001b[1;31m# Create the parser.\u001b[0m\u001b[1;33m\u001b[0m\u001b[1;33m\u001b[0m\u001b[0m\n\u001b[1;32m--> 482\u001b[1;33m     \u001b[0mparser\u001b[0m \u001b[1;33m=\u001b[0m \u001b[0mTextFileReader\u001b[0m\u001b[1;33m(\u001b[0m\u001b[0mfilepath_or_buffer\u001b[0m\u001b[1;33m,\u001b[0m \u001b[1;33m**\u001b[0m\u001b[0mkwds\u001b[0m\u001b[1;33m)\u001b[0m\u001b[1;33m\u001b[0m\u001b[1;33m\u001b[0m\u001b[0m\n\u001b[0m\u001b[0;32m    483\u001b[0m \u001b[1;33m\u001b[0m\u001b[0m\n\u001b[0;32m    484\u001b[0m     \u001b[1;32mif\u001b[0m \u001b[0mchunksize\u001b[0m \u001b[1;32mor\u001b[0m \u001b[0miterator\u001b[0m\u001b[1;33m:\u001b[0m\u001b[1;33m\u001b[0m\u001b[1;33m\u001b[0m\u001b[0m\n",
      "\u001b[1;32mC:\\anaconda\\lib\\site-packages\\pandas\\io\\parsers\\readers.py\u001b[0m in \u001b[0;36m__init__\u001b[1;34m(self, f, engine, **kwds)\u001b[0m\n\u001b[0;32m    809\u001b[0m             \u001b[0mself\u001b[0m\u001b[1;33m.\u001b[0m\u001b[0moptions\u001b[0m\u001b[1;33m[\u001b[0m\u001b[1;34m\"has_index_names\"\u001b[0m\u001b[1;33m]\u001b[0m \u001b[1;33m=\u001b[0m \u001b[0mkwds\u001b[0m\u001b[1;33m[\u001b[0m\u001b[1;34m\"has_index_names\"\u001b[0m\u001b[1;33m]\u001b[0m\u001b[1;33m\u001b[0m\u001b[1;33m\u001b[0m\u001b[0m\n\u001b[0;32m    810\u001b[0m \u001b[1;33m\u001b[0m\u001b[0m\n\u001b[1;32m--> 811\u001b[1;33m         \u001b[0mself\u001b[0m\u001b[1;33m.\u001b[0m\u001b[0m_engine\u001b[0m \u001b[1;33m=\u001b[0m \u001b[0mself\u001b[0m\u001b[1;33m.\u001b[0m\u001b[0m_make_engine\u001b[0m\u001b[1;33m(\u001b[0m\u001b[0mself\u001b[0m\u001b[1;33m.\u001b[0m\u001b[0mengine\u001b[0m\u001b[1;33m)\u001b[0m\u001b[1;33m\u001b[0m\u001b[1;33m\u001b[0m\u001b[0m\n\u001b[0m\u001b[0;32m    812\u001b[0m \u001b[1;33m\u001b[0m\u001b[0m\n\u001b[0;32m    813\u001b[0m     \u001b[1;32mdef\u001b[0m \u001b[0mclose\u001b[0m\u001b[1;33m(\u001b[0m\u001b[0mself\u001b[0m\u001b[1;33m)\u001b[0m\u001b[1;33m:\u001b[0m\u001b[1;33m\u001b[0m\u001b[1;33m\u001b[0m\u001b[0m\n",
      "\u001b[1;32mC:\\anaconda\\lib\\site-packages\\pandas\\io\\parsers\\readers.py\u001b[0m in \u001b[0;36m_make_engine\u001b[1;34m(self, engine)\u001b[0m\n\u001b[0;32m   1038\u001b[0m             )\n\u001b[0;32m   1039\u001b[0m         \u001b[1;31m# error: Too many arguments for \"ParserBase\"\u001b[0m\u001b[1;33m\u001b[0m\u001b[1;33m\u001b[0m\u001b[0m\n\u001b[1;32m-> 1040\u001b[1;33m         \u001b[1;32mreturn\u001b[0m \u001b[0mmapping\u001b[0m\u001b[1;33m[\u001b[0m\u001b[0mengine\u001b[0m\u001b[1;33m]\u001b[0m\u001b[1;33m(\u001b[0m\u001b[0mself\u001b[0m\u001b[1;33m.\u001b[0m\u001b[0mf\u001b[0m\u001b[1;33m,\u001b[0m \u001b[1;33m**\u001b[0m\u001b[0mself\u001b[0m\u001b[1;33m.\u001b[0m\u001b[0moptions\u001b[0m\u001b[1;33m)\u001b[0m  \u001b[1;31m# type: ignore[call-arg]\u001b[0m\u001b[1;33m\u001b[0m\u001b[1;33m\u001b[0m\u001b[0m\n\u001b[0m\u001b[0;32m   1041\u001b[0m \u001b[1;33m\u001b[0m\u001b[0m\n\u001b[0;32m   1042\u001b[0m     \u001b[1;32mdef\u001b[0m \u001b[0m_failover_to_python\u001b[0m\u001b[1;33m(\u001b[0m\u001b[0mself\u001b[0m\u001b[1;33m)\u001b[0m\u001b[1;33m:\u001b[0m\u001b[1;33m\u001b[0m\u001b[1;33m\u001b[0m\u001b[0m\n",
      "\u001b[1;32mC:\\anaconda\\lib\\site-packages\\pandas\\io\\parsers\\c_parser_wrapper.py\u001b[0m in \u001b[0;36m__init__\u001b[1;34m(self, src, **kwds)\u001b[0m\n\u001b[0;32m     49\u001b[0m \u001b[1;33m\u001b[0m\u001b[0m\n\u001b[0;32m     50\u001b[0m         \u001b[1;31m# open handles\u001b[0m\u001b[1;33m\u001b[0m\u001b[1;33m\u001b[0m\u001b[0m\n\u001b[1;32m---> 51\u001b[1;33m         \u001b[0mself\u001b[0m\u001b[1;33m.\u001b[0m\u001b[0m_open_handles\u001b[0m\u001b[1;33m(\u001b[0m\u001b[0msrc\u001b[0m\u001b[1;33m,\u001b[0m \u001b[0mkwds\u001b[0m\u001b[1;33m)\u001b[0m\u001b[1;33m\u001b[0m\u001b[1;33m\u001b[0m\u001b[0m\n\u001b[0m\u001b[0;32m     52\u001b[0m         \u001b[1;32massert\u001b[0m \u001b[0mself\u001b[0m\u001b[1;33m.\u001b[0m\u001b[0mhandles\u001b[0m \u001b[1;32mis\u001b[0m \u001b[1;32mnot\u001b[0m \u001b[1;32mNone\u001b[0m\u001b[1;33m\u001b[0m\u001b[1;33m\u001b[0m\u001b[0m\n\u001b[0;32m     53\u001b[0m \u001b[1;33m\u001b[0m\u001b[0m\n",
      "\u001b[1;32mC:\\anaconda\\lib\\site-packages\\pandas\\io\\parsers\\base_parser.py\u001b[0m in \u001b[0;36m_open_handles\u001b[1;34m(self, src, kwds)\u001b[0m\n\u001b[0;32m    220\u001b[0m         \u001b[0mLet\u001b[0m \u001b[0mthe\u001b[0m \u001b[0mreaders\u001b[0m \u001b[0mopen\u001b[0m \u001b[0mIOHandles\u001b[0m \u001b[0mafter\u001b[0m \u001b[0mthey\u001b[0m \u001b[0mare\u001b[0m \u001b[0mdone\u001b[0m \u001b[1;32mwith\u001b[0m \u001b[0mtheir\u001b[0m \u001b[0mpotential\u001b[0m \u001b[0mraises\u001b[0m\u001b[1;33m.\u001b[0m\u001b[1;33m\u001b[0m\u001b[1;33m\u001b[0m\u001b[0m\n\u001b[0;32m    221\u001b[0m         \"\"\"\n\u001b[1;32m--> 222\u001b[1;33m         self.handles = get_handle(\n\u001b[0m\u001b[0;32m    223\u001b[0m             \u001b[0msrc\u001b[0m\u001b[1;33m,\u001b[0m\u001b[1;33m\u001b[0m\u001b[1;33m\u001b[0m\u001b[0m\n\u001b[0;32m    224\u001b[0m             \u001b[1;34m\"r\"\u001b[0m\u001b[1;33m,\u001b[0m\u001b[1;33m\u001b[0m\u001b[1;33m\u001b[0m\u001b[0m\n",
      "\u001b[1;32mC:\\anaconda\\lib\\site-packages\\pandas\\io\\common.py\u001b[0m in \u001b[0;36mget_handle\u001b[1;34m(path_or_buf, mode, encoding, compression, memory_map, is_text, errors, storage_options)\u001b[0m\n\u001b[0;32m    700\u001b[0m         \u001b[1;32mif\u001b[0m \u001b[0mioargs\u001b[0m\u001b[1;33m.\u001b[0m\u001b[0mencoding\u001b[0m \u001b[1;32mand\u001b[0m \u001b[1;34m\"b\"\u001b[0m \u001b[1;32mnot\u001b[0m \u001b[1;32min\u001b[0m \u001b[0mioargs\u001b[0m\u001b[1;33m.\u001b[0m\u001b[0mmode\u001b[0m\u001b[1;33m:\u001b[0m\u001b[1;33m\u001b[0m\u001b[1;33m\u001b[0m\u001b[0m\n\u001b[0;32m    701\u001b[0m             \u001b[1;31m# Encoding\u001b[0m\u001b[1;33m\u001b[0m\u001b[1;33m\u001b[0m\u001b[0m\n\u001b[1;32m--> 702\u001b[1;33m             handle = open(\n\u001b[0m\u001b[0;32m    703\u001b[0m                 \u001b[0mhandle\u001b[0m\u001b[1;33m,\u001b[0m\u001b[1;33m\u001b[0m\u001b[1;33m\u001b[0m\u001b[0m\n\u001b[0;32m    704\u001b[0m                 \u001b[0mioargs\u001b[0m\u001b[1;33m.\u001b[0m\u001b[0mmode\u001b[0m\u001b[1;33m,\u001b[0m\u001b[1;33m\u001b[0m\u001b[1;33m\u001b[0m\u001b[0m\n",
      "\u001b[1;31mFileNotFoundError\u001b[0m: [Errno 2] No such file or directory: '/datasets/Churn.csv'"
     ]
    }
   ],
   "source": [
    "# Откроем и изучим файл\n",
    "\n",
    "df = pd.read_csv('/datasets/Churn.csv')\n",
    "\n",
    "df"
   ]
  },
  {
   "cell_type": "markdown",
   "metadata": {},
   "source": [
    "Отметим, что целевой признак относится к задаче бинарной классификации.\n",
    "Датафрейм состоит из 10 тыс объектов(строк) и 14 признаков (столбцов)."
   ]
  },
  {
   "cell_type": "code",
   "execution_count": null,
   "metadata": {
    "scrolled": true
   },
   "outputs": [],
   "source": [
    "# выведем на экран информацию о таблице df\n",
    "\n",
    "df.info()"
   ]
  },
  {
   "cell_type": "markdown",
   "metadata": {},
   "source": [
    "В столбце Tenure (сколько лет человек является клиентом банка) присутствуют пропущенные значения в количестве 909. Можем предположить, что пропуски в значениях связаны с тем, что клиент обслуживается менее одного целого года. Далее отфильтруем таких клиентов и проанализируем.\n",
    "\n",
    "Типы данных проверены: числовые значения соответствуют int и float, а нечисловые в дальнейшем преобразуем из категориальных в численные с помощью техники прямого кодирования. "
   ]
  },
  {
   "cell_type": "code",
   "execution_count": null,
   "metadata": {
    "scrolled": true
   },
   "outputs": [],
   "source": [
    "# отфильтруем все объекты с пропущенным значением признака \"Tenure\"\n",
    "\n",
    "df[df['Tenure'].isna()]"
   ]
  },
  {
   "cell_type": "markdown",
   "metadata": {},
   "source": [
    "Какой-то бросающейся в глаза зависимости Nan в столбце Tenure не наблюдается. Остановимся на версии, что это нецелые года, и заменим на ноль."
   ]
  },
  {
   "cell_type": "code",
   "execution_count": null,
   "metadata": {
    "scrolled": false
   },
   "outputs": [],
   "source": [
    "# заменим на ноль пропущенные значения\n",
    "\n",
    "df['Tenure'] = df['Tenure'].fillna(0)\n",
    "\n",
    "# проверим результат работы\n",
    "\n",
    "df.info()"
   ]
  },
  {
   "cell_type": "markdown",
   "metadata": {},
   "source": [
    "Пропущенных значений больше нет."
   ]
  },
  {
   "cell_type": "markdown",
   "metadata": {},
   "source": [
    "Датафрейм имеет признаки, которые не оказывают влияние на моделирование, поэтому, удалим их."
   ]
  },
  {
   "cell_type": "code",
   "execution_count": null,
   "metadata": {
    "scrolled": false
   },
   "outputs": [],
   "source": [
    "# удалим три ненужных признака\n",
    "\n",
    "df = df.drop(['RowNumber', 'CustomerId', 'Surname'], axis = 1)\n",
    "\n",
    "df"
   ]
  },
  {
   "cell_type": "markdown",
   "metadata": {},
   "source": [
    "Датафрейм изучен и подготовлен для исследования задачи."
   ]
  },
  {
   "cell_type": "markdown",
   "metadata": {},
   "source": [
    "## Исследование задачи"
   ]
  },
  {
   "cell_type": "markdown",
   "metadata": {},
   "source": [
    "Для использования моделей логистической регрессии, дерева решений и случайного леса - необходимо, чтобы все признаки имели численные значения. Преобразуем с помощью техники OHE, а чтобы не попасть в дамми-ловушку, используем аргумент drop_first."
   ]
  },
  {
   "cell_type": "code",
   "execution_count": null,
   "metadata": {
    "scrolled": false
   },
   "outputs": [],
   "source": [
    "# переводим категориальные признаки в числовые\n",
    "\n",
    "df_ohe = pd.get_dummies(df, drop_first=True)\n",
    "\n",
    "# выводим на экран размеры датафрейма\n",
    "\n",
    "display(df_ohe.shape)\n",
    "\n",
    "# выводим первые пять строк получившегося датафрейма\n",
    "\n",
    "df_ohe.head()"
   ]
  },
  {
   "cell_type": "markdown",
   "metadata": {},
   "source": [
    "Количество признаков увеличилось на один.\n",
    "\n",
    "Подготовим таблицы с признаками и разделим их на обучающую (60%), валидационную (20%) И тестовую (20%) выборки."
   ]
  },
  {
   "cell_type": "code",
   "execution_count": null,
   "metadata": {
    "scrolled": true
   },
   "outputs": [],
   "source": [
    "# подготовим таблицы с признаками и целевым признаком\n",
    "\n",
    "features_ohe = df_ohe.drop('Exited', axis=1)\n",
    "\n",
    "target_ohe = df_ohe['Exited']\n",
    "\n",
    "\n",
    "# разобьем данные с признаками и целевым признаком на выборки\n",
    "\n",
    "# для начала отделим тестовую выборку (20%)\n",
    "\n",
    "features_train_valid, features_test, target_train_valid, target_test = train_test_split(features_ohe, target_ohe, test_size=0.2, random_state=12345)\n",
    "\n",
    "# оставшиеся данные разделим на тренировочную и валидационную выборки (test_size=0.25 т.к. 20% / 80% = 0.25)\n",
    "\n",
    "features_train, features_valid, target_train, target_valid = train_test_split(features_train_valid, target_train_valid, test_size=0.25, random_state=12345)\n",
    "\n",
    "\n",
    "# выведем на экран размеры таблиц\n",
    "\n",
    "print('размеры таблиц с признаками')\n",
    "\n",
    "print(features_test.shape)\n",
    "\n",
    "print(features_train.shape)\n",
    "\n",
    "print(features_valid.shape)\n",
    "\n",
    "print('размеры таблиц с целевым признаком')\n",
    "\n",
    "print(target_test.shape)\n",
    "\n",
    "print(target_train.shape)\n",
    "\n",
    "print(target_valid.shape)\n"
   ]
  },
  {
   "cell_type": "markdown",
   "metadata": {},
   "source": [
    "Данные разделены успешно, общий размер и соотношение размеров верные."
   ]
  },
  {
   "cell_type": "markdown",
   "metadata": {},
   "source": [
    "Далее стандартизируем численные данные, чтобы они приобрели одинаковый масштаб."
   ]
  },
  {
   "cell_type": "code",
   "execution_count": null,
   "metadata": {
    "scrolled": true
   },
   "outputs": [],
   "source": [
    "# запишем в переменную список всех численных признаков\n",
    "\n",
    "numeric = ['CreditScore', 'Age', 'Tenure', 'Balance', 'NumOfProducts', 'HasCrCard', 'IsActiveMember', 'EstimatedSalary', 'Geography_Germany', 'Geography_Spain', 'Gender_Male']\n",
    "\n",
    "# создадим объект структуры и настроим его на обучающих данных\n",
    "\n",
    "scaler = StandardScaler()\n",
    "\n",
    "scaler.fit(features_train[numeric])\n",
    "\n",
    "# преобразуем датафрейм\n",
    "\n",
    "features_train[numeric] = scaler.transform(features_train[numeric])\n",
    "\n",
    "features_valid[numeric] = scaler.transform(features_valid[numeric])\n",
    "\n",
    "features_test[numeric] = scaler.transform(features_test[numeric])\n",
    "\n",
    "# посмотрим, что получилось(выведем на экран датафрейм с обучающими признаками)\n",
    "\n",
    "display(features_train)"
   ]
  },
  {
   "cell_type": "markdown",
   "metadata": {},
   "source": [
    "Данные преобразованы, количество данных верное, можем переходить к обучению модели."
   ]
  },
  {
   "cell_type": "code",
   "execution_count": null,
   "metadata": {},
   "outputs": [],
   "source": [
    "# используем модель логистической регрессии и вычислим метрики качества прогноза целевого класса\n",
    "\n",
    "# инициализируем модель\n",
    "\n",
    "model_lr = LogisticRegression(random_state=12345, solver='liblinear')\n",
    "\n",
    "# обучаем модель\n",
    "\n",
    "model_lr.fit(features_train, target_train)\n",
    "\n",
    "# предсказываем ответы по валидационным признакам\n",
    "\n",
    "predicted_valid_lr = model_lr.predict(features_valid)\n",
    "\n",
    "# вычисляем показатели качества\n",
    "\n",
    "print('Полнота:', recall_score(target_valid, predicted_valid_lr))\n",
    "\n",
    "print('Точность:', precision_score(target_valid, predicted_valid_lr))\n",
    "\n",
    "f1_lr = f1_score(target_valid, predicted_valid_lr)\n",
    "\n",
    "print('F1 модели логистической регрессии:', f1_lr)\n"
   ]
  },
  {
   "cell_type": "markdown",
   "metadata": {},
   "source": [
    "Показатель полноты низкий, он означает, что модель нашла всего 21 % положительных ответов среди всех. Показатель точности выглядет получше - 58 % объектов, отмеченных моделью, как положительные, на самом деле такие. Показатель F1 меры объединяет эти два показателя, в нашем случае, он имеет низкий показатель 0.31, это означает, что модель нужно перепроверить и починить. Можно попробовать придать объектам редкого класса (класса 1) бОльший вес( сделаем это в дальнейшем)."
   ]
  },
  {
   "cell_type": "code",
   "execution_count": null,
   "metadata": {
    "scrolled": true
   },
   "outputs": [],
   "source": [
    "# расчитаем еще одну метрику качества - Auc-Roc\n",
    "\n",
    "# вычислим вероятности классов\n",
    "\n",
    "probabilities_valid_lr = model_lr.predict_proba(features_valid)\n",
    "\n",
    "# выберем вероятности положительного класса\n",
    "\n",
    "probabilities_one_valid_lr = probabilities_valid_lr[:, 1]\n",
    "\n",
    "# вычислим новую метрику\n",
    "\n",
    "auc_roc_lr = roc_auc_score(target_valid, probabilities_one_valid_lr)\n",
    "\n",
    "print(auc_roc_lr)"
   ]
  },
  {
   "cell_type": "markdown",
   "metadata": {},
   "source": [
    "Показатель Auc_roc модели логистической регрессии равен 0.77, это больше, чем у случайной модели, но далёк от единицы, поэтому, модель следует улучшить."
   ]
  },
  {
   "cell_type": "markdown",
   "metadata": {},
   "source": [
    "Переходим к исследованию задачи с помощью моделей дерева решения и случайного леса."
   ]
  },
  {
   "cell_type": "code",
   "execution_count": null,
   "metadata": {},
   "outputs": [],
   "source": [
    "# используем модель дерева решений и вычислим метрики качества прогноза целевого класса\n",
    "\n",
    "# инициализируем модель\n",
    "\n",
    "model_dt = DecisionTreeClassifier(random_state=12345)\n",
    "\n",
    "# обучаем модель\n",
    "\n",
    "model_dt.fit(features_train, target_train)\n",
    "\n",
    "# предсказываем ответы по валидационным признакам\n",
    "\n",
    "predicted_valid_dt = model_dt.predict(features_valid)\n",
    "\n",
    "# вычисляем показатели качества\n",
    "\n",
    "print('Полнота:', recall_score(target_valid, predicted_valid_dt))\n",
    "\n",
    "print('Точность:', precision_score(target_valid, predicted_valid_dt))\n",
    "\n",
    "f1_dt = f1_score(target_valid, predicted_valid_dt)\n",
    "\n",
    "print('F1 модели дерева решений:', f1_dt)"
   ]
  },
  {
   "cell_type": "markdown",
   "metadata": {},
   "source": [
    "Показатели получились выше, чем при использовании модели логистической регрессии:  полнота - 0.50, он означает, что модель нашла половину положительных ответов среди всех. Показатель точности - 0.47, т е 47% объектов, отмеченных моделью, как положительные, на самом деле такие. Показатель F1 меры объединяет эти два показателя, в нашем случае он имеет значение 0.48, это означает, что модель нужно перепроверить и починить. Можно попробовать придать объектам редкого класса (класса 1) бОльший вес( сделаем это в следующем пункте)."
   ]
  },
  {
   "cell_type": "code",
   "execution_count": null,
   "metadata": {},
   "outputs": [],
   "source": [
    "# расчитаем еще одну метрику качества - Auc-Roc\n",
    "\n",
    "# вычислим вероятности классов\n",
    "\n",
    "probabilities_valid_dt = model_dt.predict_proba(features_valid)\n",
    "\n",
    "# выберем вероятности положительного класса\n",
    "\n",
    "probabilities_one_valid_dt = probabilities_valid_dt[:, 1]\n",
    "\n",
    "# вычислим новую метрику\n",
    "\n",
    "auc_roc_dt = roc_auc_score(target_valid, probabilities_one_valid_dt)\n",
    "\n",
    "print(auc_roc_dt)"
   ]
  },
  {
   "cell_type": "markdown",
   "metadata": {},
   "source": [
    "Показатель Auc_roc модели дерева решений равен 0.68, это еще меньше, чем у модели логистической регрессии."
   ]
  },
  {
   "cell_type": "code",
   "execution_count": null,
   "metadata": {},
   "outputs": [],
   "source": [
    "# используем модель случайного леса и вычислим метрики качества прогноза целевого класса\n",
    "\n",
    "# инициализируем модель\n",
    "\n",
    "model_rf = RandomForestClassifier(random_state=12345)\n",
    "\n",
    "# обучаем модель\n",
    "\n",
    "model_rf.fit(features_train, target_train)\n",
    "\n",
    "# предсказываем ответы по валидационным признакам\n",
    "\n",
    "predicted_valid_rf = model_rf.predict(features_valid)\n",
    "\n",
    "# вычисляем показатели качества\n",
    "\n",
    "print('Полнота:', recall_score(target_valid, predicted_valid_rf))\n",
    "\n",
    "print('Точность:', precision_score(target_valid, predicted_valid_rf))\n",
    "\n",
    "f1_rf = f1_score(target_valid, predicted_valid_rf)\n",
    "\n",
    "print('F1 модели случайного леса:', f1_rf)"
   ]
  },
  {
   "cell_type": "markdown",
   "metadata": {},
   "source": [
    "Показатели при использовании случайного леса:  полнота - 0.46, он означает, что модель нашла 46 % положительных ответов среди всех. Показатель точности - 0.74, т.е. 74% объектов, отмеченных моделью, как положительные, на самом деле такие. Показатель F1 меры объединяет эти два показателя, в нашем случае он имеет показатель 0.57, что является недостаточным. Можно попробовать придать объектам редкого класса (класса 1) бОльший вес( сделаем это в следующем пункте)."
   ]
  },
  {
   "cell_type": "code",
   "execution_count": null,
   "metadata": {},
   "outputs": [],
   "source": [
    "# расчитаем еще одну метрику качества - Auc-Roc\n",
    "\n",
    "# вычислим вероятности классов\n",
    "\n",
    "probabilities_valid_rf = model_rf.predict_proba(features_valid)\n",
    "\n",
    "# выберем вероятности положительного класса\n",
    "\n",
    "probabilities_one_valid_rf = probabilities_valid_rf[:, 1]\n",
    "\n",
    "# вычислим новую метрику\n",
    "\n",
    "auc_roc_rf = roc_auc_score(target_valid, probabilities_one_valid_rf)\n",
    "\n",
    "print(auc_roc_rf)"
   ]
  },
  {
   "cell_type": "markdown",
   "metadata": {},
   "source": [
    "Самый высокий показатель Auc_roc получился у модели случайного леса и составляет 0.85, это неплохой показатель."
   ]
  },
  {
   "cell_type": "markdown",
   "metadata": {},
   "source": [
    "**По результатам обучения моделей, наилучший результат F1-меры и Auc_Roc получился при использовании модели случайного леса**."
   ]
  },
  {
   "cell_type": "markdown",
   "metadata": {},
   "source": [
    "## Исследуйте баланс классов"
   ]
  },
  {
   "cell_type": "markdown",
   "metadata": {},
   "source": [
    "Далее проверим, как часто в целевом признаке встречается класс \"1\" или \"0\"."
   ]
  },
  {
   "cell_type": "code",
   "execution_count": null,
   "metadata": {
    "scrolled": true
   },
   "outputs": [],
   "source": [
    "# подсчитаем классы в целевом признаке\n",
    "\n",
    "class_frequency = target_ohe.value_counts(normalize=True)\n",
    "\n",
    "print(class_frequency)\n",
    "\n",
    "# построим график\n",
    "\n",
    "class_frequency.plot(kind='bar')\n"
   ]
  },
  {
   "cell_type": "markdown",
   "metadata": {},
   "source": [
    "Доля  ушедших клиентов составляет 20,37 %, а доля оставшихся почти в 4 раза больше, классы не являются сбалансированными, учтем это при дальнейшем обучении моделей, т.е. обучим с учетом сбалансированности."
   ]
  },
  {
   "cell_type": "markdown",
   "metadata": {},
   "source": [
    "## Борьба с дисбалансом"
   ]
  },
  {
   "cell_type": "code",
   "execution_count": null,
   "metadata": {},
   "outputs": [],
   "source": [
    "# добавим аргумент class_weight = 'balanced' при инициализации модели логистической регрессии\n",
    "\n",
    "model_lr_balance = LogisticRegression(random_state=12345, solver='liblinear', class_weight = 'balanced')\n",
    "\n",
    "model_lr_balance.fit(features_train, target_train)\n",
    "\n",
    "predicted_valid_lr_balance = model_lr_balance.predict(features_valid)\n",
    "\n",
    "print('Полнота:', recall_score(target_valid, predicted_valid_lr_balance))\n",
    "\n",
    "print('Точность:', precision_score(target_valid, predicted_valid_lr_balance))\n",
    "\n",
    "f1_lr_balance = f1_score(target_valid, predicted_valid_lr_balance)\n",
    "\n",
    "print('F1 модели логистической регрессии при использовании аргумента balanced:', f1_lr_balance)"
   ]
  },
  {
   "cell_type": "markdown",
   "metadata": {},
   "source": [
    "Придав объектам редкого класса бОльший вес, мы значительно увеличили показатель полноты - 0.68, но уменьшили показатель точности - 0.37 (увеличилось количество ложноположительных результатов). Модель нашла 68 % положительных ответов среди всех; 37 % объектов, отмеченных моделью, как положительные, на самом деле такие. Показатель F1 меры увеличился до 0.48. "
   ]
  },
  {
   "cell_type": "code",
   "execution_count": null,
   "metadata": {},
   "outputs": [],
   "source": [
    "# расчитаем Auc-Roc\n",
    "\n",
    "# вычислим вероятности классов\n",
    "\n",
    "probabilities_valid_lr_balance = model_lr_balance.predict_proba(features_valid)\n",
    "\n",
    "# выберем вероятности положительного класса\n",
    "\n",
    "probabilities_one_valid_lr_balance = probabilities_valid_lr_balance[:, 1]\n",
    "\n",
    "# вычислим новую метрику\n",
    "\n",
    "auc_roc_lr_balance = roc_auc_score(target_valid, probabilities_one_valid_lr_balance)\n",
    "\n",
    "print(auc_roc_lr_balance)"
   ]
  },
  {
   "cell_type": "markdown",
   "metadata": {},
   "source": [
    "Auc-Roc сбалансированной модели логистической регрессии составляет 0.77, столько же, сколько до сбалансированности."
   ]
  },
  {
   "cell_type": "code",
   "execution_count": null,
   "metadata": {
    "scrolled": true
   },
   "outputs": [],
   "source": [
    "# добавим аргумент class_weight = 'balanced' при инициализации модели дерева решений\n",
    "\n",
    "model_dt_balance = DecisionTreeClassifier(random_state=12345, class_weight = 'balanced')\n",
    "\n",
    "model_dt_balance.fit(features_train, target_train)\n",
    "\n",
    "predicted_valid_dt_balance = model_dt_balance.predict(features_valid)\n",
    "\n",
    "print('Полнота:', recall_score(target_valid, predicted_valid_dt_balance))\n",
    "\n",
    "print('Точность:', precision_score(target_valid, predicted_valid_dt_balance))\n",
    "\n",
    "f1_dt_balance = f1_score(target_valid, predicted_valid_dt_balance)\n",
    "\n",
    "print('F1 модели дерева решений при использовании аргумента balanced:', f1_dt_balance)"
   ]
  },
  {
   "cell_type": "markdown",
   "metadata": {},
   "source": [
    "Придав объектам редкого класса бОльший вес, мы снизили показатель полноты - 0.44 (увеличилось количество ложноотрицательных ответов), а показатель точности остался прежним - 0.47. Модель нашла 44 % положительных ответов среди всех; 47 % объектов, отмеченных моделью, как положительные, на самом деле такие. Показатель F1 меры снизился до 0.45. "
   ]
  },
  {
   "cell_type": "code",
   "execution_count": null,
   "metadata": {},
   "outputs": [],
   "source": [
    "# расчитаем Auc-Roc\n",
    "\n",
    "# вычислим вероятности классов\n",
    "\n",
    "probabilities_valid_dt_balance = model_dt_balance.predict_proba(features_valid)\n",
    "\n",
    "# выберем вероятности положительного класса\n",
    "\n",
    "probabilities_one_valid_dt_balance = probabilities_valid_dt_balance[:, 1]\n",
    "\n",
    "# вычислим новую метрику\n",
    "\n",
    "auc_roc_dt_balance = roc_auc_score(target_valid, probabilities_one_valid_dt_balance)\n",
    "\n",
    "print(auc_roc_dt_balance)"
   ]
  },
  {
   "cell_type": "markdown",
   "metadata": {},
   "source": [
    "Auc-Roc сбалансированной модели дерева решений составляет 0.66, это меньше, чем до сбалансированности."
   ]
  },
  {
   "cell_type": "code",
   "execution_count": null,
   "metadata": {
    "scrolled": true
   },
   "outputs": [],
   "source": [
    "# добавим аргумент class_weight = 'balanced' при инициализации модели случайного леса\n",
    "\n",
    "model_rf_balance = RandomForestClassifier(random_state=12345, class_weight = 'balanced')\n",
    "\n",
    "model_rf_balance.fit(features_train, target_train)\n",
    "\n",
    "predicted_valid_rf_balance = model_rf_balance.predict(features_valid)\n",
    "\n",
    "print('Полнота:', recall_score(target_valid, predicted_valid_rf_balance))\n",
    "\n",
    "print('Точность:', precision_score(target_valid, predicted_valid_rf_balance))\n",
    "\n",
    "f1_rf_balance = f1_score(target_valid, predicted_valid_rf_balance)\n",
    "\n",
    "print('F1 модели случайного леса при использовании аргумента balanced:', f1_rf_balance)"
   ]
  },
  {
   "cell_type": "markdown",
   "metadata": {},
   "source": [
    "Придав объектам редкого класса бОльший вес, мы снизили показатель полноты - 0.43 (увеличилось количество ложноотрицательных ответов), а показатель точности немного увеличился - 0.77 (уменьшилось количество ложноположительных результатов). Таким образом, модель нашла 43 % положительных ответов среди всех; 77 % объектов, отмеченных моделью, как положительные, на самом деле такие. Показатель F1 меры снизился до 0.55. "
   ]
  },
  {
   "cell_type": "code",
   "execution_count": null,
   "metadata": {},
   "outputs": [],
   "source": [
    "# расчитаем Auc-Roc\n",
    "\n",
    "# вычислим вероятности классов\n",
    "\n",
    "probabilities_valid_rf_balance = model_rf_balance.predict_proba(features_valid)\n",
    "\n",
    "# выберем вероятности положительного класса\n",
    "\n",
    "probabilities_one_valid_rf_balance = probabilities_valid_rf_balance[:, 1]\n",
    "\n",
    "# вычислим новую метрику\n",
    "\n",
    "auc_roc_rf_balance = roc_auc_score(target_valid, probabilities_one_valid_rf_balance)\n",
    "\n",
    "print(auc_roc_rf_balance)"
   ]
  },
  {
   "cell_type": "markdown",
   "metadata": {},
   "source": [
    "Auc-Roc сбалансированной модели случайного леса составляет 0.85, показатель не изменился."
   ]
  },
  {
   "cell_type": "markdown",
   "metadata": {},
   "source": [
    "Борьба с дисбалансом с использованием аргумента balanced незначительно улучшила результат только у модели логистической регресии. Далее попробуем использовать техники увеличения и уменьшения выборки."
   ]
  },
  {
   "cell_type": "markdown",
   "metadata": {},
   "source": [
    "C помощью техники upsampling увеличим выборку редкого класса.\n",
    "\n",
    "Для этого разделим выборки на отрицательные и положительные объекты, увеличим количество редкого класса, перемешаем данные."
   ]
  },
  {
   "cell_type": "code",
   "execution_count": null,
   "metadata": {
    "scrolled": false
   },
   "outputs": [],
   "source": [
    "# разделим обучающую выборку на отрицательные и положительные объекты:\n",
    "\n",
    "features_train_zeros = features_train[target_train == 0]\n",
    "\n",
    "features_train_ones = features_train[target_train == 1]\n",
    "\n",
    "target_train_zeros = target_train[target_train == 0]\n",
    "\n",
    "target_train_ones = target_train[target_train == 1]\n"
   ]
  },
  {
   "cell_type": "code",
   "execution_count": null,
   "metadata": {
    "scrolled": true
   },
   "outputs": [],
   "source": [
    "# вспомним, какой класс у нас является редким \n",
    "\n",
    "target_train.value_counts()"
   ]
  },
  {
   "cell_type": "markdown",
   "metadata": {},
   "source": [
    "Класс 1 (уход клиента) является редким. Поэтому будем увеличивать выборку этого класса."
   ]
  },
  {
   "cell_type": "code",
   "execution_count": null,
   "metadata": {},
   "outputs": [],
   "source": [
    "# расчитаем необходимое значение показателя repeat(повторов):\n",
    "\n",
    "repeat = float(len(features_train_zeros) / len(features_train_ones))\n",
    "\n",
    "repeat = round(repeat)\n",
    "\n",
    "repeat"
   ]
  },
  {
   "cell_type": "code",
   "execution_count": null,
   "metadata": {
    "scrolled": false
   },
   "outputs": [],
   "source": [
    "# продублируем объекты положительного класса и объединим их с объектами отрицательного класса\n",
    "\n",
    "features_upsampled = pd.concat([features_train_zeros] + [features_train_ones] * repeat)\n",
    "\n",
    "target_upsampled = pd.concat([target_train_zeros] + [target_train_ones] * repeat)\n",
    "\n",
    "# посмотрим, что получилось\n",
    "\n",
    "target_upsampled.value_counts()\n"
   ]
  },
  {
   "cell_type": "markdown",
   "metadata": {},
   "source": [
    "Количество данных максимально сравнялось."
   ]
  },
  {
   "cell_type": "code",
   "execution_count": null,
   "metadata": {},
   "outputs": [],
   "source": [
    "# перемешаем данные\n",
    "\n",
    "features_upsampled = shuffle(features_upsampled, random_state=12345)\n",
    "\n",
    "target_upsampled = shuffle(target_upsampled, random_state=12345)"
   ]
  },
  {
   "cell_type": "code",
   "execution_count": null,
   "metadata": {},
   "outputs": [],
   "source": [
    "# обучим на новых данных модель LogisticRegression\n",
    "\n",
    "model_lr_up = LogisticRegression(random_state=12345, solver='liblinear')\n",
    "\n",
    "model_lr_up.fit(features_upsampled, target_upsampled)\n",
    "\n",
    "predicted_valid_lr_up = model_lr_up.predict(features_valid)\n",
    "\n",
    "print('Полнота:', recall_score(target_valid, predicted_valid_lr_up))\n",
    "\n",
    "print('Точность:', precision_score(target_valid, predicted_valid_lr_up))\n",
    "\n",
    "f1_lr_up = f1_score(target_valid, predicted_valid_lr_up)\n",
    "\n",
    "print('F1 модели логистической регрессии при применении техники upsampling:', f1_lr_up)"
   ]
  },
  {
   "cell_type": "markdown",
   "metadata": {},
   "source": [
    "Совсем незначительно увеличился показатель полноты, а точность и показатель F1-меры такой же, как при применении class_weight = 'balanced'."
   ]
  },
  {
   "cell_type": "code",
   "execution_count": null,
   "metadata": {},
   "outputs": [],
   "source": [
    "# расчитаем Auc-Roc\n",
    "\n",
    "# вычислим вероятности классов\n",
    "\n",
    "probabilities_valid_lr_up = model_lr_up.predict_proba(features_valid)\n",
    "\n",
    "# выберем вероятности положительного класса\n",
    "\n",
    "probabilities_one_valid_lr_up = probabilities_valid_lr_up[:, 1]\n",
    "\n",
    "# вычислим новую метрику\n",
    "\n",
    "auc_roc_lr_up = roc_auc_score(target_valid, probabilities_one_valid_lr_up)\n",
    "\n",
    "print(auc_roc_lr_up)"
   ]
  },
  {
   "cell_type": "markdown",
   "metadata": {},
   "source": [
    "Auc-Roc модели логистической регрессии при применении техники upsampling составляет 0.77, столько же, то есть сохраняется на том же уровне.  "
   ]
  },
  {
   "cell_type": "markdown",
   "metadata": {},
   "source": [
    "C помощью техники upsampling увеличим выборку редкого класса для модели дерева решений."
   ]
  },
  {
   "cell_type": "code",
   "execution_count": null,
   "metadata": {
    "scrolled": true
   },
   "outputs": [],
   "source": [
    "# обучим на новых данных модель DecisionTreeClassifier\n",
    "\n",
    "model_dt_up = DecisionTreeClassifier(random_state=12345)\n",
    "\n",
    "model_dt_up.fit(features_upsampled, target_upsampled)\n",
    "\n",
    "predicted_valid_dt_up = model_dt_up.predict(features_valid)\n",
    "\n",
    "print('Полнота:', recall_score(target_valid, predicted_valid_dt_up))\n",
    "\n",
    "print('Точность:', precision_score(target_valid, predicted_valid_dt_up))\n",
    "\n",
    "f1_dt_up = f1_score(target_valid, predicted_valid_dt_up)\n",
    "\n",
    "print('F1 модели дерева решений при применении техники upsampling:', f1_dt_up)"
   ]
  },
  {
   "cell_type": "markdown",
   "metadata": {},
   "source": [
    "При увеличении выборки техникой upsampling немного увеличился показатель полноты (что означает, что модель стала находить меньше ложноотрицательных значений), точность осталась на том же уровне, что и при применении аргумента balanced, а f1-мера немного больше, чем при использовании balanced, но меньше, чем до придания редкому классу бОльшего веса."
   ]
  },
  {
   "cell_type": "code",
   "execution_count": null,
   "metadata": {},
   "outputs": [],
   "source": [
    "# расчитаем Auc-Roc\n",
    "\n",
    "# вычислим вероятности классов\n",
    "\n",
    "probabilities_valid_dt_up = model_dt_up.predict_proba(features_valid)\n",
    "\n",
    "# выберем вероятности положительного класса\n",
    "\n",
    "probabilities_one_valid_dt_up = probabilities_valid_dt_up[:, 1]\n",
    "\n",
    "# вычислим новую метрику\n",
    "\n",
    "auc_roc_dt_up = roc_auc_score(target_valid, probabilities_one_valid_dt_up)\n",
    "\n",
    "print(auc_roc_dt_up)"
   ]
  },
  {
   "cell_type": "markdown",
   "metadata": {},
   "source": [
    "Auc-Roc модели дерева решений при применении техники upsampling составляет 0.66, это столько же, сколько после сбалансированности, и меньше, чем до сбалансированности.  "
   ]
  },
  {
   "cell_type": "markdown",
   "metadata": {},
   "source": [
    "Для модели случайного леса применим технику уменьшения выборки - downsampling."
   ]
  },
  {
   "cell_type": "code",
   "execution_count": null,
   "metadata": {},
   "outputs": [],
   "source": [
    "# создадим функцию, которая берем в качестве аргументов: признаки и целевой признак, а также долю \n",
    "# более популярного класса\n",
    "\n",
    "def downsample(features, target, fraction):\n",
    "    \n",
    "    features_zeros = features[target == 0]\n",
    "\n",
    "    features_ones = features[target == 1]\n",
    "\n",
    "    target_zeros = target[target == 0]\n",
    "\n",
    "    target_ones = target[target == 1]\n",
    "    \n",
    "    features_downsampled = pd.concat([features_zeros.sample(frac=fraction, random_state=12345)] + [features_ones])\n",
    "        \n",
    "    target_downsampled = pd.concat([target_zeros.sample(frac=fraction, random_state=12345)] + [target_ones])\n",
    "    \n",
    "    features_downsampled = shuffle(features_downsampled, random_state=12345)\n",
    "\n",
    "    target_downsampled = shuffle(target_downsampled, random_state=12345)\n",
    "    \n",
    "    return features_downsampled, target_downsampled\n",
    "    \n",
    "\n",
    "# применим функцию к обучающим признакам, а доля в нашем случае составит 0,25 ( 1 / 4)    \n",
    "    \n",
    "features_downsampled, target_downsampled = downsample(features_train, target_train, 0.25)\n",
    "        "
   ]
  },
  {
   "cell_type": "code",
   "execution_count": null,
   "metadata": {
    "scrolled": true
   },
   "outputs": [],
   "source": [
    "# обучим на новых данных модель RandomForestClassifier\n",
    "\n",
    "model_rf_down = RandomForestClassifier(random_state=12345)\n",
    "\n",
    "model_rf_down.fit(features_downsampled, target_downsampled)\n",
    "\n",
    "predicted_valid_rf_down = model_rf_down.predict(features_valid)\n",
    "\n",
    "print('Полнота:', recall_score(target_valid, predicted_valid_rf_down))\n",
    "\n",
    "print('Точность:', precision_score(target_valid, predicted_valid_rf_down))\n",
    "\n",
    "f1_rf_down = f1_score(target_valid, predicted_valid_rf_down)\n",
    "\n",
    "print('F1 модели случайного леса при использовании техники downsampling:', f1_rf_down)"
   ]
  },
  {
   "cell_type": "markdown",
   "metadata": {},
   "source": [
    "При уменьшении выборки техникой downsampling (по сравнению с применением аргумента balanced) значительно увеличился показатель полноты (что означает, что модель стала находить меньше ложноотрицательных значений), но точность значительно уменьшилась (значит модель стала находить больше ложноположительных значений, а f1-мера остался на том же уровне, что и при использовании balanced, но меньше, чем до придания редкому классу бОльшего веса."
   ]
  },
  {
   "cell_type": "code",
   "execution_count": null,
   "metadata": {},
   "outputs": [],
   "source": [
    "# расчитаем Auc-Roc\n",
    "\n",
    "# вычислим вероятности классов\n",
    "\n",
    "probabilities_valid_rf_down = model_rf_down.predict_proba(features_valid)\n",
    "\n",
    "# выберем вероятности положительного класса\n",
    "\n",
    "probabilities_one_valid_rf_down = probabilities_valid_rf_down[:, 1]\n",
    "\n",
    "# вычислим новую метрику\n",
    "\n",
    "auc_roc_rf_down = roc_auc_score(target_valid, probabilities_one_valid_rf_down)\n",
    "\n",
    "print(auc_roc_rf_down)"
   ]
  },
  {
   "cell_type": "markdown",
   "metadata": {},
   "source": [
    "Auc-Roc модели случайного леса при применении техники downsampling составляет 0.84, это немного меньше, чем после сбалансированности и  до сбалансированности."
   ]
  },
  {
   "cell_type": "markdown",
   "metadata": {},
   "source": [
    "Таким образом, самые высокие показатели **f1-Мера и Auc_Roc мы имеем при использовании модели случайного леса без применения сбалансированности классов**. Попробуем у данной модели поработать с гиперпараметрами."
   ]
  },
  {
   "cell_type": "code",
   "execution_count": null,
   "metadata": {},
   "outputs": [],
   "source": [
    "# в цикле переберем различное количество деревьев от 1 до 20 и глубину дерева от 1 до 10, и выберем лучшую модель\n",
    "\n",
    "best_model_forest = None\n",
    "\n",
    "best_result = 0\n",
    "\n",
    "best_est = 0\n",
    "\n",
    "best_depth = 0\n",
    "\n",
    "for est in range(1, 21):\n",
    "    \n",
    "    for depth in range (1, 11):\n",
    "    \n",
    "        model_forest = RandomForestClassifier(random_state=12345, n_estimators=est, max_depth=depth)\n",
    "    \n",
    "        model_forest.fit(features_train, target_train)\n",
    "        \n",
    "        predicted_forest = model_forest.predict(features_valid)\n",
    "    \n",
    "        result = f1_score(target_valid, predicted_forest)\n",
    "    \n",
    "        if result > best_result:\n",
    "        \n",
    "            best_model_forest = model_forest\n",
    "        \n",
    "            best_result = result\n",
    "        \n",
    "            best_est = est\n",
    "            \n",
    "            best_depth = depth\n",
    "\n",
    "print('F1-мера наилучшей модели случайного леса решений на валидационной выборке:', best_result)\n",
    "\n",
    "print('Количество деревьев наилучшей модели случайного леса решений на валидационной выборке:', best_est)\n",
    "\n",
    "print('Глубина дерева наилучшей модели случайного леса решений на валидационной выборке:', best_depth)\n"
   ]
  },
  {
   "cell_type": "code",
   "execution_count": null,
   "metadata": {},
   "outputs": [],
   "source": [
    "# расчитаем Auc-Roc\n",
    "\n",
    "# вычислим вероятности классов\n",
    "\n",
    "probabilities_forest = model_forest.predict_proba(features_valid)\n",
    "\n",
    "# выберем вероятности положительного класса\n",
    "\n",
    "probabilities_one_forest = probabilities_forest[:, 1]\n",
    "\n",
    "# вычислим новую метрику\n",
    "\n",
    "auc_roc_forest = roc_auc_score(target_valid, probabilities_one_forest)\n",
    "\n",
    "print(auc_roc_forest)"
   ]
  },
  {
   "cell_type": "markdown",
   "metadata": {},
   "source": [
    "Показатель F1-меры и Auc_roc снизились, увеличим количество деревьев."
   ]
  },
  {
   "cell_type": "code",
   "execution_count": null,
   "metadata": {
    "scrolled": true
   },
   "outputs": [],
   "source": [
    "%%time\n",
    "\n",
    "# в цикле переберем различное количество деревьев от 1 до 50 и глубину дерева от 1 до 10, и выберем лучшую модель\n",
    "\n",
    "best_model_forest = None\n",
    "\n",
    "best_result = 0\n",
    "\n",
    "best_est = 0\n",
    "\n",
    "best_depth = 0\n",
    "\n",
    "for est in range(1, 51):\n",
    "    \n",
    "    for depth in range (1, 11):\n",
    "    \n",
    "        model_forest = RandomForestClassifier(random_state=12345, n_estimators=est, max_depth=depth)\n",
    "    \n",
    "        model_forest.fit(features_train, target_train)\n",
    "        \n",
    "        predicted_forest = model_forest.predict(features_valid)\n",
    "    \n",
    "        result = f1_score(target_valid, predicted_forest)\n",
    "    \n",
    "        if result > best_result:\n",
    "        \n",
    "            best_model_forest = model_forest\n",
    "        \n",
    "            best_result = result\n",
    "        \n",
    "            best_est = est\n",
    "\n",
    "            best_depth = depth\n",
    "\n",
    "print('F1-мера наилучшей модели случайного леса решений на валидационной выборке:', best_result)\n",
    "\n",
    "print('Количество деревьев наилучшей модели случайного леса решений на валидационной выборке:', best_est)\n",
    "\n",
    "print('Глубина дерева наилучшей модели случайного леса решений на валидационной выборке:', best_depth)\n"
   ]
  },
  {
   "cell_type": "code",
   "execution_count": null,
   "metadata": {},
   "outputs": [],
   "source": [
    "# расчитаем Auc-Roc\n",
    "\n",
    "# вычислим вероятности классов\n",
    "\n",
    "probabilities_forest = model_forest.predict_proba(features_valid)\n",
    "\n",
    "# выберем вероятности положительного класса\n",
    "\n",
    "probabilities_one_forest = probabilities_forest[:, 1]\n",
    "\n",
    "# вычислим новую метрику\n",
    "\n",
    "auc_roc_forest = roc_auc_score(target_valid, probabilities_one_forest)\n",
    "\n",
    "print(auc_roc_forest)"
   ]
  },
  {
   "cell_type": "markdown",
   "metadata": {},
   "source": [
    "Положительные изменения недостаточны, в качестве эксперимента пробовала увеличить количество деревьев до 100 и глубину до 20. Это также не дало нужных результатов (из проекта эти расчеты удалила, т к занимают очень много времени). Оставим пока данную модель, попробуем улучшить модель логистической регрессии."
   ]
  },
  {
   "cell_type": "code",
   "execution_count": null,
   "metadata": {},
   "outputs": [],
   "source": [
    "# измененим порог вероятности  модели логистической регрессии с аргументом balanced.\n",
    "\n",
    "model_lr_balance_threshold = LogisticRegression(random_state=12345, solver='liblinear', class_weight = 'balanced')\n",
    "\n",
    "model_lr_balance_threshold.fit(features_train, target_train)\n",
    "\n",
    "probabilities_valid = model_lr_balance_threshold.predict_proba(features_valid)\n",
    "\n",
    "probabilities_one_valid = probabilities_valid[:, 1]\n",
    "\n",
    "for threshold in np.arange(0, 0.7, 0.02):\n",
    "    \n",
    "    predicted_valid_lr_threshold = model_lr_balance_threshold.predict(features_valid)\n",
    "    \n",
    "    predicted_valid_lr_threshold = probabilities_one_valid > threshold\n",
    "\n",
    "print('Полнота:', recall_score(target_valid, predicted_valid_lr_threshold))\n",
    "\n",
    "print('Точность:', precision_score(target_valid, predicted_valid_lr_threshold))\n",
    "\n",
    "f1_lr_threshold = f1_score(target_valid, predicted_valid_lr_threshold)\n",
    "\n",
    "print('F1 модели логистической регрессии при использовании аргумента balanced и изменении порога:', f1_lr_threshold)"
   ]
  },
  {
   "cell_type": "code",
   "execution_count": null,
   "metadata": {},
   "outputs": [],
   "source": [
    "# расчитаем Auc-Roc\n",
    "\n",
    "auc_roc_lr_threshold = roc_auc_score(target_valid, probabilities_one_valid)\n",
    "\n",
    "print(auc_roc_lr_threshold)"
   ]
  },
  {
   "cell_type": "markdown",
   "metadata": {},
   "source": [
    "Показатели снизились, вариант не подходит."
   ]
  },
  {
   "cell_type": "code",
   "execution_count": null,
   "metadata": {},
   "outputs": [],
   "source": [
    "# используем модель дерева решений и переберем в цикле глубину дерева от 1 до 10 \n",
    "\n",
    "best_model_dt_depth = None\n",
    "\n",
    "best_result = 0\n",
    "\n",
    "best_depth = 0\n",
    "    \n",
    "for depth in range(1, 11):\n",
    "    \n",
    "    model_dt_depth = DecisionTreeClassifier(random_state=12345, max_depth=depth, class_weight = 'balanced')\n",
    "    \n",
    "    model_dt_depth.fit(features_train, target_train)\n",
    "        \n",
    "    predicted_dt_depth = model_dt_depth.predict(features_valid)\n",
    "    \n",
    "    result = f1_score(target_valid, predicted_dt_depth)\n",
    "    \n",
    "    if result > best_result:\n",
    "        \n",
    "            best_model_dt_depth = model_dt_depth\n",
    "        \n",
    "            best_result = result\n",
    "\n",
    "            best_depth = depth\n",
    "\n",
    "\n",
    "print('Полнота:', recall_score(target_valid, predicted_dt_depth))\n",
    "\n",
    "print('Точность:', precision_score(target_valid, predicted_dt_depth))\n",
    "\n",
    "f1_dt_depth = f1_score(target_valid, predicted_dt_depth)\n",
    "\n",
    "print('F1 модели дерева решений:', f1_dt_depth)\n"
   ]
  },
  {
   "cell_type": "code",
   "execution_count": null,
   "metadata": {},
   "outputs": [],
   "source": [
    "# используем модель дерева решений и переберем в цикле глубину дерева от 1 до 50 \n",
    "\n",
    "best_model_dt_depth = None\n",
    "\n",
    "best_result = 0\n",
    "\n",
    "best_depth = 0\n",
    "    \n",
    "for depth in range(1, 51):\n",
    "    \n",
    "    model_dt_depth = DecisionTreeClassifier(random_state=12345, max_depth=depth, class_weight = 'balanced')\n",
    "    \n",
    "    model_dt_depth.fit(features_train, target_train)\n",
    "        \n",
    "    predicted_dt_depth = model_dt_depth.predict(features_valid)\n",
    "    \n",
    "    result = f1_score(target_valid, predicted_dt_depth)\n",
    "    \n",
    "    if result > best_result:\n",
    "        \n",
    "            best_model_dt_depth = model_dt_depth\n",
    "        \n",
    "            best_result = result\n",
    "\n",
    "            best_depth = depth\n",
    "\n",
    "\n",
    "print('Полнота:', recall_score(target_valid, predicted_dt_depth))\n",
    "\n",
    "print('Точность:', precision_score(target_valid, predicted_dt_depth))\n",
    "\n",
    "f1_dt_depth = f1_score(target_valid, predicted_dt_depth)\n",
    "\n",
    "print('F1 модели дерева решений:', f1_dt_depth)\n"
   ]
  },
  {
   "cell_type": "code",
   "execution_count": 42,
   "metadata": {},
   "outputs": [
    {
     "name": "stdout",
     "output_type": "stream",
     "text": [
      "0.6576649250777675\n"
     ]
    }
   ],
   "source": [
    "# расчитаем Auc-Roc\n",
    "\n",
    "# вычислим вероятности классов\n",
    "\n",
    "probabilities_dt_depth = model_dt_depth.predict_proba(features_valid)\n",
    "\n",
    "# выберем вероятности положительного класса\n",
    "\n",
    "probabilities_one_dt_depth = probabilities_dt_depth[:, 1]\n",
    "\n",
    "# вычислим новую метрику\n",
    "\n",
    "auc_roc_dt_depth = roc_auc_score(target_valid, probabilities_one_dt_depth)\n",
    "\n",
    "print(auc_roc_dt_depth)"
   ]
  },
  {
   "cell_type": "markdown",
   "metadata": {},
   "source": [
    "Показатели снизились, вариант не подходит."
   ]
  },
  {
   "cell_type": "markdown",
   "metadata": {},
   "source": [
    "Попробуем вернуться к модели случайного леса, сбалансировать классы и перебрать количество деревьев от 1 до 50 и глубину от 1 до 10."
   ]
  },
  {
   "cell_type": "code",
   "execution_count": 43,
   "metadata": {
    "scrolled": false
   },
   "outputs": [
    {
     "name": "stdout",
     "output_type": "stream",
     "text": [
      "F1-мера наилучшей модели случайного леса решений на валидационной выборке: 0.5959079283887468\n",
      "Количество деревьев наилучшей модели случайного леса решений на валидационной выборке: 41\n",
      "Глубина дерева наилучшей модели случайного леса решений на валидационной выборке: 10\n",
      "CPU times: user 54 s, sys: 273 ms, total: 54.2 s\n",
      "Wall time: 54.3 s\n"
     ]
    }
   ],
   "source": [
    "%%time\n",
    "\n",
    "best_model_forest_balance = None\n",
    "\n",
    "best_result = 0\n",
    "\n",
    "best_est = 0\n",
    "\n",
    "best_depth = 0\n",
    "\n",
    "for est in range(1, 51):\n",
    "    \n",
    "    for depth in range (1, 11):\n",
    "    \n",
    "        model_forest_balance = RandomForestClassifier(random_state=12345, n_estimators=est, max_depth=depth, class_weight = 'balanced')\n",
    "    \n",
    "        model_forest_balance.fit(features_train, target_train)\n",
    "        \n",
    "        predicted_forest_balance = model_forest_balance.predict(features_valid)\n",
    "    \n",
    "        result = f1_score(target_valid, predicted_forest_balance)\n",
    "    \n",
    "        if result > best_result:\n",
    "        \n",
    "            best_model_forest_balance = model_forest\n",
    "        \n",
    "            best_result = result\n",
    "        \n",
    "            best_est = est\n",
    "\n",
    "            best_depth = depth\n",
    "\n",
    "print('F1-мера наилучшей модели случайного леса решений на валидационной выборке:', best_result)\n",
    "\n",
    "print('Количество деревьев наилучшей модели случайного леса решений на валидационной выборке:', best_est)\n",
    "\n",
    "print('Глубина дерева наилучшей модели случайного леса решений на валидационной выборке:', best_depth)\n"
   ]
  },
  {
   "cell_type": "code",
   "execution_count": 44,
   "metadata": {},
   "outputs": [
    {
     "name": "stdout",
     "output_type": "stream",
     "text": [
      "0.8518992432274339\n"
     ]
    }
   ],
   "source": [
    "# расчитаем Auc-Roc\n",
    "\n",
    "# вычислим вероятности классов\n",
    "\n",
    "probabilities_forest_balance = model_forest_balance.predict_proba(features_valid)\n",
    "\n",
    "# выберем вероятности положительного класса\n",
    "\n",
    "probabilities_one_forest_balance = probabilities_forest_balance[:, 1]\n",
    "\n",
    "# вычислим новую метрику\n",
    "\n",
    "auc_roc_forest_balance = roc_auc_score(target_valid, probabilities_one_forest_balance)\n",
    "\n",
    "print(auc_roc_forest_balance)"
   ]
  },
  {
   "cell_type": "markdown",
   "metadata": {},
   "source": [
    "Желаемый результат достигнут, F1-мера увеличена почти до 0.6. Auc_roc составляет 0.85, это неплохой результат.\n",
    "\n",
    "Осталось протестировать модель."
   ]
  },
  {
   "cell_type": "markdown",
   "metadata": {},
   "source": [
    "## Тестирование модели"
   ]
  },
  {
   "cell_type": "code",
   "execution_count": 45,
   "metadata": {},
   "outputs": [
    {
     "data": {
      "text/plain": [
       "0.632086851628468"
      ]
     },
     "execution_count": 45,
     "metadata": {},
     "output_type": "execute_result"
    }
   ],
   "source": [
    "# запишем в лучшую модель - модель случайного леса с учетом сбалансированности классов и подобранных гиперпараметров \n",
    "\n",
    "best_model = RandomForestClassifier(random_state=12345, n_estimators=41, max_depth=10, class_weight = 'balanced')\n",
    "    \n",
    "best_model.fit(features_train, target_train)\n",
    "    \n",
    "predicted_best_model = best_model.predict(features_test)\n",
    "    \n",
    "result_test = f1_score(target_test, predicted_best_model)\n",
    "\n",
    "result_test\n",
    "    "
   ]
  },
  {
   "cell_type": "markdown",
   "metadata": {},
   "source": [
    "Результат тестирования получился выше, чем у случайной модели и немного выше, чем на валидационной выборке."
   ]
  },
  {
   "cell_type": "code",
   "execution_count": 46,
   "metadata": {
    "scrolled": true
   },
   "outputs": [
    {
     "name": "stdout",
     "output_type": "stream",
     "text": [
      "0.861658460764273\n"
     ]
    }
   ],
   "source": [
    "# расчитаем еще одну метрику качества - Auc-Roc\n",
    "\n",
    "# вычислим вероятности классов\n",
    "\n",
    "probabilities_valid_best = best_model.predict_proba(features_test)\n",
    "\n",
    "# выберем вероятности положительного класса\n",
    "\n",
    "probabilities_one_valid = probabilities_valid_best[:, 1]\n",
    "\n",
    "# вычислим метрику\n",
    "\n",
    "auc_roc_best = roc_auc_score(target_test, probabilities_one_valid)\n",
    "\n",
    "print(auc_roc_best)"
   ]
  },
  {
   "cell_type": "markdown",
   "metadata": {},
   "source": [
    "Показатель получился лучше, чем у случайной модели (больше 0,5) и незначительно выше, чем на валидационной выборке."
   ]
  },
  {
   "cell_type": "markdown",
   "metadata": {},
   "source": [
    "Выведем важность признаков, влияющих на целевой признак."
   ]
  },
  {
   "cell_type": "code",
   "execution_count": 48,
   "metadata": {
    "scrolled": false
   },
   "outputs": [
    {
     "data": {
      "text/html": [
       "<div>\n",
       "<style scoped>\n",
       "    .dataframe tbody tr th:only-of-type {\n",
       "        vertical-align: middle;\n",
       "    }\n",
       "\n",
       "    .dataframe tbody tr th {\n",
       "        vertical-align: top;\n",
       "    }\n",
       "\n",
       "    .dataframe thead th {\n",
       "        text-align: right;\n",
       "    }\n",
       "</style>\n",
       "<table border=\"1\" class=\"dataframe\">\n",
       "  <thead>\n",
       "    <tr style=\"text-align: right;\">\n",
       "      <th></th>\n",
       "      <th>feature</th>\n",
       "      <th>importance</th>\n",
       "    </tr>\n",
       "  </thead>\n",
       "  <tbody>\n",
       "    <tr>\n",
       "      <th>0</th>\n",
       "      <td>Age</td>\n",
       "      <td>0.309281</td>\n",
       "    </tr>\n",
       "    <tr>\n",
       "      <th>1</th>\n",
       "      <td>NumOfProducts</td>\n",
       "      <td>0.175433</td>\n",
       "    </tr>\n",
       "    <tr>\n",
       "      <th>2</th>\n",
       "      <td>Balance</td>\n",
       "      <td>0.125463</td>\n",
       "    </tr>\n",
       "    <tr>\n",
       "      <th>3</th>\n",
       "      <td>EstimatedSalary</td>\n",
       "      <td>0.097622</td>\n",
       "    </tr>\n",
       "    <tr>\n",
       "      <th>4</th>\n",
       "      <td>CreditScore</td>\n",
       "      <td>0.086250</td>\n",
       "    </tr>\n",
       "    <tr>\n",
       "      <th>5</th>\n",
       "      <td>IsActiveMember</td>\n",
       "      <td>0.059097</td>\n",
       "    </tr>\n",
       "    <tr>\n",
       "      <th>6</th>\n",
       "      <td>Geography_Germany</td>\n",
       "      <td>0.051317</td>\n",
       "    </tr>\n",
       "    <tr>\n",
       "      <th>7</th>\n",
       "      <td>Tenure</td>\n",
       "      <td>0.048219</td>\n",
       "    </tr>\n",
       "    <tr>\n",
       "      <th>8</th>\n",
       "      <td>Gender_Male</td>\n",
       "      <td>0.025378</td>\n",
       "    </tr>\n",
       "    <tr>\n",
       "      <th>9</th>\n",
       "      <td>HasCrCard</td>\n",
       "      <td>0.011769</td>\n",
       "    </tr>\n",
       "    <tr>\n",
       "      <th>10</th>\n",
       "      <td>Geography_Spain</td>\n",
       "      <td>0.010170</td>\n",
       "    </tr>\n",
       "  </tbody>\n",
       "</table>\n",
       "</div>"
      ],
      "text/plain": [
       "              feature  importance\n",
       "0                 Age    0.309281\n",
       "1       NumOfProducts    0.175433\n",
       "2             Balance    0.125463\n",
       "3     EstimatedSalary    0.097622\n",
       "4         CreditScore    0.086250\n",
       "5      IsActiveMember    0.059097\n",
       "6   Geography_Germany    0.051317\n",
       "7              Tenure    0.048219\n",
       "8         Gender_Male    0.025378\n",
       "9           HasCrCard    0.011769\n",
       "10    Geography_Spain    0.010170"
      ]
     },
     "metadata": {},
     "output_type": "display_data"
    },
    {
     "data": {
      "text/plain": [
       "<AxesSubplot:title={'center':'График важности признаков'}>"
      ]
     },
     "execution_count": 48,
     "metadata": {},
     "output_type": "execute_result"
    },
    {
     "data": {
      "image/png": "[encoded data removed]",
      "text/plain": [
       "<Figure size 432x288 with 1 Axes>"
      ]
     },
     "metadata": {
      "needs_background": "light"
     },
     "output_type": "display_data"
    }
   ],
   "source": [
    "# в виде таблицы\n",
    "\n",
    "importances = best_model.feature_importances_\n",
    "\n",
    "feature_list = list(features_train.columns)\n",
    "\n",
    "feature_results = pd.DataFrame({'feature': feature_list,'importance': importances})\n",
    "\n",
    "feature_results = feature_results.sort_values('importance',ascending = False).reset_index(drop=True)\n",
    "\n",
    "display(feature_results)\n",
    "\n",
    "# в виде графика\n",
    "\n",
    "feature_results.plot.barh(title='График важности признаков')"
   ]
  },
  {
   "cell_type": "markdown",
   "metadata": {},
   "source": [
    "Отметим, что при моделировании главным фактором стал возраст клиента, а наименее важным - наличие кредитной карты."
   ]
  },
  {
   "cell_type": "markdown",
   "metadata": {},
   "source": [
    "## Вывод"
   ]
  },
  {
   "cell_type": "markdown",
   "metadata": {},
   "source": [
    "Лучшей моделью для предсказания, уйдет клиент или останется, стала модель случайного леса с сбалансированными классами, с количеством деревьев 41 и глубиной дерева 10. Метрика доведена более, чем 0.59 и проверена на тестовой выборке (результаты на тестовой выборке близки к результатам на валидационной выборке), модель обучилась хорошо.\n",
    "Самым важным фактором, влияющим на целевой признак, является возраст клиента.\n",
    "Хотелось бы порекомендовать заказчику перепроверить данные в столбце Tenure и причину, почему часть значений пропущены.\n"
   ]
  },
  {
   "cell_type": "markdown",
   "metadata": {},
   "source": [
    "## Чек-лист готовности проекта"
   ]
  },
  {
   "cell_type": "markdown",
   "metadata": {},
   "source": [
    "Поставьте 'x' в выполненных пунктах. Далее нажмите Shift+Enter."
   ]
  },
  {
   "cell_type": "markdown",
   "metadata": {},
   "source": [
    "- [x]  Jupyter Notebook открыт\n",
    "- [x]  Весь код выполняется без ошибок\n",
    "- [x]  Ячейки с кодом расположены в порядке исполнения\n",
    "- [x]  Выполнен шаг 1: данные подготовлены\n",
    "- [x]  Выполнен шаг 2: задача исследована\n",
    "    - [x]  Исследован баланс классов\n",
    "    - [x]  Изучены модели без учёта дисбаланса\n",
    "    - [x]  Написаны выводы по результатам исследования\n",
    "- [x]  Выполнен шаг 3: учтён дисбаланс\n",
    "    - [x]  Применено несколько способов борьбы с дисбалансом\n",
    "    - [x]  Написаны выводы по результатам исследования\n",
    "- [x]  Выполнен шаг 4: проведено тестирование\n",
    "- [x]  Удалось достичь *F1*-меры не менее 0.59\n",
    "- [x]  Исследована метрика *AUC-ROC*"
   ]
  },
  {
   "cell_type": "code",
   "execution_count": null,
   "metadata": {},
   "outputs": [],
   "source": []
  }
 ],
 "metadata": {
  "ExecuteTimeLog": [
   {
    "duration": 61,
    "start_time": "2022-12-04T15:10:56.825Z"
   },
   {
    "duration": 1524,
    "start_time": "2022-12-04T15:11:01.933Z"
   },
   {
    "duration": 126,
    "start_time": "2022-12-04T15:11:03.649Z"
   },
   {
    "duration": 21,
    "start_time": "2022-12-04T15:24:13.748Z"
   },
   {
    "duration": 21,
    "start_time": "2022-12-04T15:32:10.677Z"
   },
   {
    "duration": 7,
    "start_time": "2022-12-04T15:44:14.135Z"
   },
   {
    "duration": 4,
    "start_time": "2022-12-04T15:44:38.404Z"
   },
   {
    "duration": 30,
    "start_time": "2022-12-04T15:44:43.734Z"
   },
   {
    "duration": 76,
    "start_time": "2022-12-04T15:45:09.142Z"
   },
   {
    "duration": 14,
    "start_time": "2022-12-04T15:45:18.251Z"
   },
   {
    "duration": 49,
    "start_time": "2022-12-05T11:19:51.440Z"
   },
   {
    "duration": 1591,
    "start_time": "2022-12-05T11:20:00.190Z"
   },
   {
    "duration": 195,
    "start_time": "2022-12-05T11:20:01.784Z"
   },
   {
    "duration": 15,
    "start_time": "2022-12-05T11:20:03.661Z"
   },
   {
    "duration": 31,
    "start_time": "2022-12-05T11:20:06.147Z"
   },
   {
    "duration": 14,
    "start_time": "2022-12-05T11:20:09.519Z"
   },
   {
    "duration": 277,
    "start_time": "2022-12-05T11:20:15.380Z"
   },
   {
    "duration": 91,
    "start_time": "2022-12-05T11:30:58.170Z"
   },
   {
    "duration": 13,
    "start_time": "2022-12-05T11:32:31.382Z"
   },
   {
    "duration": 175,
    "start_time": "2022-12-05T11:32:56.209Z"
   },
   {
    "duration": 15,
    "start_time": "2022-12-05T11:33:26.609Z"
   },
   {
    "duration": 13,
    "start_time": "2022-12-05T11:33:43.332Z"
   },
   {
    "duration": 17,
    "start_time": "2022-12-05T11:34:17.981Z"
   },
   {
    "duration": 4,
    "start_time": "2022-12-05T11:34:27.450Z"
   },
   {
    "duration": 84,
    "start_time": "2022-12-05T11:34:27.457Z"
   },
   {
    "duration": 19,
    "start_time": "2022-12-05T11:34:27.544Z"
   },
   {
    "duration": 44,
    "start_time": "2022-12-05T11:34:27.565Z"
   },
   {
    "duration": 17,
    "start_time": "2022-12-05T11:34:27.610Z"
   },
   {
    "duration": 4,
    "start_time": "2022-12-05T11:34:31.969Z"
   },
   {
    "duration": 14,
    "start_time": "2022-12-05T11:34:46.182Z"
   },
   {
    "duration": 15,
    "start_time": "2022-12-05T11:35:49.223Z"
   },
   {
    "duration": 18,
    "start_time": "2022-12-05T11:37:31.021Z"
   },
   {
    "duration": 3,
    "start_time": "2022-12-05T11:37:50.371Z"
   },
   {
    "duration": 53,
    "start_time": "2022-12-05T11:37:51.421Z"
   },
   {
    "duration": 13,
    "start_time": "2022-12-05T11:37:55.410Z"
   },
   {
    "duration": 22,
    "start_time": "2022-12-05T11:37:58.330Z"
   },
   {
    "duration": 14,
    "start_time": "2022-12-05T11:38:01.696Z"
   },
   {
    "duration": 21,
    "start_time": "2022-12-05T11:38:08.661Z"
   },
   {
    "duration": 10,
    "start_time": "2022-12-05T11:38:34.342Z"
   },
   {
    "duration": 4,
    "start_time": "2022-12-05T11:47:34.897Z"
   },
   {
    "duration": 10,
    "start_time": "2022-12-05T11:50:34.574Z"
   },
   {
    "duration": 9,
    "start_time": "2022-12-05T11:58:09.828Z"
   },
   {
    "duration": 23,
    "start_time": "2022-12-05T11:58:28.401Z"
   },
   {
    "duration": 23,
    "start_time": "2022-12-05T11:58:50.050Z"
   },
   {
    "duration": 18,
    "start_time": "2022-12-05T11:59:11.942Z"
   },
   {
    "duration": 11,
    "start_time": "2022-12-05T12:03:50.735Z"
   },
   {
    "duration": 14,
    "start_time": "2022-12-05T12:04:16.119Z"
   },
   {
    "duration": 6,
    "start_time": "2022-12-05T12:08:47.238Z"
   },
   {
    "duration": 174,
    "start_time": "2022-12-05T12:10:07.358Z"
   },
   {
    "duration": 121,
    "start_time": "2022-12-05T12:10:23.678Z"
   },
   {
    "duration": 3,
    "start_time": "2022-12-05T12:14:31.156Z"
   },
   {
    "duration": 14,
    "start_time": "2022-12-05T12:15:48.126Z"
   },
   {
    "duration": 3,
    "start_time": "2022-12-05T12:16:06.569Z"
   },
   {
    "duration": 12,
    "start_time": "2022-12-05T12:24:40.502Z"
   },
   {
    "duration": 16,
    "start_time": "2022-12-05T12:25:27.466Z"
   },
   {
    "duration": 18,
    "start_time": "2022-12-05T12:26:30.855Z"
   },
   {
    "duration": 39,
    "start_time": "2022-12-05T12:28:35.673Z"
   },
   {
    "duration": 57,
    "start_time": "2022-12-05T12:32:16.253Z"
   },
   {
    "duration": 3,
    "start_time": "2022-12-05T12:32:25.023Z"
   },
   {
    "duration": 17,
    "start_time": "2022-12-05T12:32:31.228Z"
   },
   {
    "duration": 4,
    "start_time": "2022-12-05T12:34:46.334Z"
   },
   {
    "duration": 26,
    "start_time": "2022-12-05T12:35:33.578Z"
   },
   {
    "duration": 60,
    "start_time": "2022-12-06T12:35:27.994Z"
   },
   {
    "duration": 0,
    "start_time": "2022-12-06T12:35:28.091Z"
   },
   {
    "duration": 0,
    "start_time": "2022-12-06T12:35:28.093Z"
   },
   {
    "duration": 0,
    "start_time": "2022-12-06T12:35:28.094Z"
   },
   {
    "duration": 0,
    "start_time": "2022-12-06T12:35:28.095Z"
   },
   {
    "duration": 0,
    "start_time": "2022-12-06T12:35:28.097Z"
   },
   {
    "duration": 0,
    "start_time": "2022-12-06T12:35:28.098Z"
   },
   {
    "duration": 0,
    "start_time": "2022-12-06T12:35:28.100Z"
   },
   {
    "duration": 0,
    "start_time": "2022-12-06T12:35:28.102Z"
   },
   {
    "duration": 0,
    "start_time": "2022-12-06T12:35:28.103Z"
   },
   {
    "duration": 0,
    "start_time": "2022-12-06T12:35:28.104Z"
   },
   {
    "duration": 0,
    "start_time": "2022-12-06T12:35:28.105Z"
   },
   {
    "duration": 6,
    "start_time": "2022-12-06T12:35:35.781Z"
   },
   {
    "duration": 7,
    "start_time": "2022-12-06T12:35:39.943Z"
   },
   {
    "duration": 8,
    "start_time": "2022-12-06T12:35:41.691Z"
   },
   {
    "duration": 6,
    "start_time": "2022-12-06T12:35:43.822Z"
   },
   {
    "duration": 6,
    "start_time": "2022-12-06T12:35:46.592Z"
   },
   {
    "duration": 1551,
    "start_time": "2022-12-06T12:35:54.846Z"
   },
   {
    "duration": 117,
    "start_time": "2022-12-06T12:35:56.400Z"
   },
   {
    "duration": 1366,
    "start_time": "2022-12-06T12:36:03.908Z"
   },
   {
    "duration": 63,
    "start_time": "2022-12-06T12:36:05.276Z"
   },
   {
    "duration": 13,
    "start_time": "2022-12-06T12:36:05.340Z"
   },
   {
    "duration": 22,
    "start_time": "2022-12-06T12:36:05.355Z"
   },
   {
    "duration": 15,
    "start_time": "2022-12-06T12:36:05.379Z"
   },
   {
    "duration": 19,
    "start_time": "2022-12-06T12:36:05.396Z"
   },
   {
    "duration": 17,
    "start_time": "2022-12-06T12:36:05.417Z"
   },
   {
    "duration": 11,
    "start_time": "2022-12-06T12:36:05.435Z"
   },
   {
    "duration": 37,
    "start_time": "2022-12-06T12:36:05.448Z"
   },
   {
    "duration": 146,
    "start_time": "2022-12-06T12:36:05.488Z"
   },
   {
    "duration": 45,
    "start_time": "2022-12-06T12:36:05.636Z"
   },
   {
    "duration": 97,
    "start_time": "2022-12-06T12:36:05.683Z"
   },
   {
    "duration": 80,
    "start_time": "2022-12-06T12:36:05.782Z"
   },
   {
    "duration": 6,
    "start_time": "2022-12-06T12:36:27.535Z"
   },
   {
    "duration": 73,
    "start_time": "2022-12-06T12:42:49.504Z"
   },
   {
    "duration": 293,
    "start_time": "2022-12-06T12:43:25.693Z"
   },
   {
    "duration": 22,
    "start_time": "2022-12-06T12:45:00.801Z"
   },
   {
    "duration": 22,
    "start_time": "2022-12-06T12:46:45.983Z"
   },
   {
    "duration": 4,
    "start_time": "2022-12-06T12:54:19.685Z"
   },
   {
    "duration": 13,
    "start_time": "2022-12-06T12:56:35.331Z"
   },
   {
    "duration": 4,
    "start_time": "2022-12-06T12:57:03.383Z"
   },
   {
    "duration": 58,
    "start_time": "2022-12-06T12:57:03.909Z"
   },
   {
    "duration": 13,
    "start_time": "2022-12-06T12:57:04.852Z"
   },
   {
    "duration": 23,
    "start_time": "2022-12-06T12:57:06.253Z"
   },
   {
    "duration": 13,
    "start_time": "2022-12-06T12:57:07.640Z"
   },
   {
    "duration": 21,
    "start_time": "2022-12-06T12:57:09.606Z"
   },
   {
    "duration": 12,
    "start_time": "2022-12-06T12:57:11.622Z"
   },
   {
    "duration": 8,
    "start_time": "2022-12-06T12:57:12.803Z"
   },
   {
    "duration": 13,
    "start_time": "2022-12-06T12:57:13.360Z"
   },
   {
    "duration": 115,
    "start_time": "2022-12-06T12:57:15.001Z"
   },
   {
    "duration": 23,
    "start_time": "2022-12-06T12:57:17.512Z"
   },
   {
    "duration": 21,
    "start_time": "2022-12-06T12:57:20.485Z"
   },
   {
    "duration": 5,
    "start_time": "2022-12-06T12:57:25.002Z"
   },
   {
    "duration": 13,
    "start_time": "2022-12-06T12:57:29.034Z"
   },
   {
    "duration": 11,
    "start_time": "2022-12-06T12:58:10.637Z"
   },
   {
    "duration": 4,
    "start_time": "2022-12-06T13:00:07.691Z"
   },
   {
    "duration": 65,
    "start_time": "2022-12-06T13:00:08.681Z"
   },
   {
    "duration": 13,
    "start_time": "2022-12-06T13:00:10.461Z"
   },
   {
    "duration": 25,
    "start_time": "2022-12-06T13:00:12.083Z"
   },
   {
    "duration": 14,
    "start_time": "2022-12-06T13:00:13.692Z"
   },
   {
    "duration": 22,
    "start_time": "2022-12-06T13:00:15.583Z"
   },
   {
    "duration": 14,
    "start_time": "2022-12-06T13:00:17.529Z"
   },
   {
    "duration": 11,
    "start_time": "2022-12-06T13:00:18.462Z"
   },
   {
    "duration": 12,
    "start_time": "2022-12-06T13:00:18.971Z"
   },
   {
    "duration": 134,
    "start_time": "2022-12-06T13:00:20.929Z"
   },
   {
    "duration": 24,
    "start_time": "2022-12-06T13:00:23.433Z"
   },
   {
    "duration": 21,
    "start_time": "2022-12-06T13:00:25.225Z"
   },
   {
    "duration": 6,
    "start_time": "2022-12-06T13:00:31.053Z"
   },
   {
    "duration": 12,
    "start_time": "2022-12-06T13:00:32.833Z"
   },
   {
    "duration": 4,
    "start_time": "2022-12-06T13:02:12.993Z"
   },
   {
    "duration": 56,
    "start_time": "2022-12-06T13:02:13.850Z"
   },
   {
    "duration": 14,
    "start_time": "2022-12-06T13:02:16.328Z"
   },
   {
    "duration": 20,
    "start_time": "2022-12-06T13:02:16.651Z"
   },
   {
    "duration": 13,
    "start_time": "2022-12-06T13:02:17.647Z"
   },
   {
    "duration": 22,
    "start_time": "2022-12-06T13:02:20.148Z"
   },
   {
    "duration": 13,
    "start_time": "2022-12-06T13:02:21.787Z"
   },
   {
    "duration": 8,
    "start_time": "2022-12-06T13:02:22.753Z"
   },
   {
    "duration": 11,
    "start_time": "2022-12-06T13:02:23.212Z"
   },
   {
    "duration": 116,
    "start_time": "2022-12-06T13:02:25.122Z"
   },
   {
    "duration": 22,
    "start_time": "2022-12-06T13:02:27.293Z"
   },
   {
    "duration": 20,
    "start_time": "2022-12-06T13:02:28.764Z"
   },
   {
    "duration": 5,
    "start_time": "2022-12-06T13:02:30.584Z"
   },
   {
    "duration": 12,
    "start_time": "2022-12-06T13:02:31.748Z"
   },
   {
    "duration": 8,
    "start_time": "2022-12-06T13:02:46.623Z"
   },
   {
    "duration": 7,
    "start_time": "2022-12-06T13:03:02.862Z"
   },
   {
    "duration": 9,
    "start_time": "2022-12-06T13:03:18.116Z"
   },
   {
    "duration": 9,
    "start_time": "2022-12-06T13:04:18.854Z"
   },
   {
    "duration": 11,
    "start_time": "2022-12-06T13:09:57.872Z"
   },
   {
    "duration": 11,
    "start_time": "2022-12-06T13:10:28.881Z"
   },
   {
    "duration": 11,
    "start_time": "2022-12-06T13:13:01.140Z"
   },
   {
    "duration": 9,
    "start_time": "2022-12-06T13:14:16.324Z"
   },
   {
    "duration": 4,
    "start_time": "2022-12-06T13:18:38.121Z"
   },
   {
    "duration": 5,
    "start_time": "2022-12-06T13:18:39.689Z"
   },
   {
    "duration": 5,
    "start_time": "2022-12-06T13:19:03.983Z"
   },
   {
    "duration": 64,
    "start_time": "2022-12-06T13:19:03.989Z"
   },
   {
    "duration": 11,
    "start_time": "2022-12-06T13:19:04.055Z"
   },
   {
    "duration": 20,
    "start_time": "2022-12-06T13:19:04.068Z"
   },
   {
    "duration": 12,
    "start_time": "2022-12-06T13:19:04.090Z"
   },
   {
    "duration": 23,
    "start_time": "2022-12-06T13:19:04.103Z"
   },
   {
    "duration": 14,
    "start_time": "2022-12-06T13:19:04.128Z"
   },
   {
    "duration": 10,
    "start_time": "2022-12-06T13:19:04.144Z"
   },
   {
    "duration": 11,
    "start_time": "2022-12-06T13:19:04.178Z"
   },
   {
    "duration": 126,
    "start_time": "2022-12-06T13:19:04.191Z"
   },
   {
    "duration": 61,
    "start_time": "2022-12-06T13:19:04.319Z"
   },
   {
    "duration": 108,
    "start_time": "2022-12-06T13:19:04.382Z"
   },
   {
    "duration": 9,
    "start_time": "2022-12-06T13:19:11.488Z"
   },
   {
    "duration": 11,
    "start_time": "2022-12-06T13:19:17.464Z"
   },
   {
    "duration": 14,
    "start_time": "2022-12-06T13:20:58.709Z"
   },
   {
    "duration": 28,
    "start_time": "2022-12-06T13:21:12.522Z"
   },
   {
    "duration": 23,
    "start_time": "2022-12-06T13:22:19.873Z"
   },
   {
    "duration": 25,
    "start_time": "2022-12-06T14:05:23.980Z"
   },
   {
    "duration": 13,
    "start_time": "2022-12-06T14:05:36.001Z"
   },
   {
    "duration": 25,
    "start_time": "2022-12-06T14:06:33.251Z"
   },
   {
    "duration": 25,
    "start_time": "2022-12-06T14:06:56.429Z"
   },
   {
    "duration": 33,
    "start_time": "2022-12-06T14:07:18.272Z"
   },
   {
    "duration": 24,
    "start_time": "2022-12-06T14:07:32.000Z"
   },
   {
    "duration": 24,
    "start_time": "2022-12-06T14:07:40.432Z"
   },
   {
    "duration": 18,
    "start_time": "2022-12-06T14:09:04.822Z"
   },
   {
    "duration": 18,
    "start_time": "2022-12-06T14:09:29.059Z"
   },
   {
    "duration": 94,
    "start_time": "2022-12-06T14:11:09.745Z"
   },
   {
    "duration": 14,
    "start_time": "2022-12-06T14:11:21.452Z"
   },
   {
    "duration": 12,
    "start_time": "2022-12-06T14:11:34.333Z"
   },
   {
    "duration": 30,
    "start_time": "2022-12-06T14:19:14.531Z"
   },
   {
    "duration": 28,
    "start_time": "2022-12-06T14:19:45.691Z"
   },
   {
    "duration": 31,
    "start_time": "2022-12-06T14:20:21.771Z"
   },
   {
    "duration": 28,
    "start_time": "2022-12-06T14:20:49.195Z"
   },
   {
    "duration": 116,
    "start_time": "2022-12-06T14:20:55.669Z"
   },
   {
    "duration": 27,
    "start_time": "2022-12-06T14:21:01.034Z"
   },
   {
    "duration": 24,
    "start_time": "2022-12-06T14:21:05.385Z"
   },
   {
    "duration": 20,
    "start_time": "2022-12-06T14:21:28.355Z"
   },
   {
    "duration": 16,
    "start_time": "2022-12-06T14:23:35.379Z"
   },
   {
    "duration": 28,
    "start_time": "2022-12-06T14:23:55.418Z"
   },
   {
    "duration": 16,
    "start_time": "2022-12-06T14:29:36.298Z"
   },
   {
    "duration": 11,
    "start_time": "2022-12-06T14:33:08.994Z"
   },
   {
    "duration": 779,
    "start_time": "2022-12-06T14:46:55.060Z"
   },
   {
    "duration": 8,
    "start_time": "2022-12-06T14:49:22.505Z"
   },
   {
    "duration": 761,
    "start_time": "2022-12-06T14:49:23.716Z"
   },
   {
    "duration": 4,
    "start_time": "2022-12-06T14:49:46.420Z"
   },
   {
    "duration": 57,
    "start_time": "2022-12-06T14:49:48.154Z"
   },
   {
    "duration": 21,
    "start_time": "2022-12-06T14:49:49.833Z"
   },
   {
    "duration": 22,
    "start_time": "2022-12-06T14:49:51.260Z"
   },
   {
    "duration": 14,
    "start_time": "2022-12-06T14:49:52.674Z"
   },
   {
    "duration": 21,
    "start_time": "2022-12-06T14:49:56.414Z"
   },
   {
    "duration": 19,
    "start_time": "2022-12-06T14:50:38.794Z"
   },
   {
    "duration": 7,
    "start_time": "2022-12-06T14:51:47.069Z"
   },
   {
    "duration": 754,
    "start_time": "2022-12-06T14:53:14.462Z"
   },
   {
    "duration": 762,
    "start_time": "2022-12-06T14:54:23.372Z"
   },
   {
    "duration": 1493,
    "start_time": "2022-12-10T09:08:14.044Z"
   },
   {
    "duration": 110,
    "start_time": "2022-12-10T09:08:15.539Z"
   },
   {
    "duration": 12,
    "start_time": "2022-12-10T09:08:17.763Z"
   },
   {
    "duration": 20,
    "start_time": "2022-12-10T09:08:20.195Z"
   },
   {
    "duration": 12,
    "start_time": "2022-12-10T09:08:22.960Z"
   },
   {
    "duration": 19,
    "start_time": "2022-12-10T09:08:26.159Z"
   },
   {
    "duration": 16,
    "start_time": "2022-12-10T09:08:29.470Z"
   },
   {
    "duration": 8,
    "start_time": "2022-12-10T09:08:32.222Z"
   },
   {
    "duration": 776,
    "start_time": "2022-12-10T09:08:33.785Z"
   },
   {
    "duration": 61,
    "start_time": "2022-12-10T09:09:40.756Z"
   },
   {
    "duration": 7,
    "start_time": "2022-12-10T09:11:09.639Z"
   },
   {
    "duration": 120,
    "start_time": "2022-12-10T09:16:52.887Z"
   },
   {
    "duration": 10,
    "start_time": "2022-12-10T09:17:01.983Z"
   },
   {
    "duration": 50,
    "start_time": "2022-12-10T09:17:49.778Z"
   },
   {
    "duration": 11,
    "start_time": "2022-12-10T09:20:25.351Z"
   },
   {
    "duration": 123,
    "start_time": "2022-12-10T09:22:15.875Z"
   },
   {
    "duration": 20,
    "start_time": "2022-12-10T09:24:03.235Z"
   },
   {
    "duration": 87,
    "start_time": "2022-12-10T09:29:19.016Z"
   },
   {
    "duration": 108,
    "start_time": "2022-12-10T09:29:23.865Z"
   },
   {
    "duration": 129,
    "start_time": "2022-12-10T09:29:27.685Z"
   },
   {
    "duration": 43,
    "start_time": "2022-12-10T09:29:38.266Z"
   },
   {
    "duration": 26,
    "start_time": "2022-12-10T09:29:45.137Z"
   },
   {
    "duration": 4,
    "start_time": "2022-12-10T09:30:32.946Z"
   },
   {
    "duration": 2,
    "start_time": "2022-12-10T09:38:08.185Z"
   },
   {
    "duration": 11,
    "start_time": "2022-12-10T09:38:16.475Z"
   },
   {
    "duration": 3,
    "start_time": "2022-12-10T09:38:26.155Z"
   },
   {
    "duration": 9,
    "start_time": "2022-12-10T09:38:27.766Z"
   },
   {
    "duration": 3,
    "start_time": "2022-12-10T09:38:46.513Z"
   },
   {
    "duration": 10,
    "start_time": "2022-12-10T09:39:08.014Z"
   },
   {
    "duration": 3,
    "start_time": "2022-12-10T09:39:10.144Z"
   },
   {
    "duration": 4,
    "start_time": "2022-12-10T09:39:11.834Z"
   },
   {
    "duration": 750,
    "start_time": "2022-12-10T09:41:29.717Z"
   },
   {
    "duration": 795,
    "start_time": "2022-12-10T09:43:16.938Z"
   },
   {
    "duration": 8,
    "start_time": "2022-12-10T09:43:34.827Z"
   },
   {
    "duration": 6,
    "start_time": "2022-12-10T09:44:51.067Z"
   },
   {
    "duration": 45,
    "start_time": "2022-12-10T09:49:14.919Z"
   },
   {
    "duration": 10,
    "start_time": "2022-12-10T09:49:20.099Z"
   },
   {
    "duration": 4,
    "start_time": "2022-12-10T09:50:37.187Z"
   },
   {
    "duration": 9,
    "start_time": "2022-12-10T09:50:48.918Z"
   },
   {
    "duration": 3,
    "start_time": "2022-12-10T09:51:25.262Z"
   },
   {
    "duration": 10,
    "start_time": "2022-12-10T09:51:28.422Z"
   },
   {
    "duration": 9,
    "start_time": "2022-12-10T09:58:13.559Z"
   },
   {
    "duration": 4,
    "start_time": "2022-12-10T10:00:23.241Z"
   },
   {
    "duration": 7,
    "start_time": "2022-12-10T10:00:26.342Z"
   },
   {
    "duration": 5,
    "start_time": "2022-12-10T10:02:22.092Z"
   },
   {
    "duration": 4,
    "start_time": "2022-12-10T10:03:32.872Z"
   },
   {
    "duration": 57,
    "start_time": "2022-12-10T10:03:32.878Z"
   },
   {
    "duration": 12,
    "start_time": "2022-12-10T10:03:32.936Z"
   },
   {
    "duration": 20,
    "start_time": "2022-12-10T10:03:32.949Z"
   },
   {
    "duration": 11,
    "start_time": "2022-12-10T10:03:32.971Z"
   },
   {
    "duration": 19,
    "start_time": "2022-12-10T10:03:32.997Z"
   },
   {
    "duration": 17,
    "start_time": "2022-12-10T10:03:33.017Z"
   },
   {
    "duration": 8,
    "start_time": "2022-12-10T10:03:33.035Z"
   },
   {
    "duration": 83,
    "start_time": "2022-12-10T10:03:33.044Z"
   },
   {
    "duration": 112,
    "start_time": "2022-12-10T10:03:33.129Z"
   },
   {
    "duration": 154,
    "start_time": "2022-12-10T10:03:33.243Z"
   },
   {
    "duration": 98,
    "start_time": "2022-12-10T10:03:33.399Z"
   },
   {
    "duration": 109,
    "start_time": "2022-12-10T10:03:33.500Z"
   },
   {
    "duration": 5,
    "start_time": "2022-12-10T10:03:33.611Z"
   },
   {
    "duration": 6,
    "start_time": "2022-12-10T10:03:33.617Z"
   },
   {
    "duration": 8,
    "start_time": "2022-12-10T10:03:33.625Z"
   },
   {
    "duration": 10,
    "start_time": "2022-12-10T10:03:33.635Z"
   },
   {
    "duration": 36,
    "start_time": "2022-12-10T10:05:08.762Z"
   },
   {
    "duration": 18,
    "start_time": "2022-12-10T10:06:36.581Z"
   },
   {
    "duration": 5,
    "start_time": "2022-12-10T10:06:37.341Z"
   },
   {
    "duration": 4,
    "start_time": "2022-12-10T10:06:38.647Z"
   },
   {
    "duration": 7,
    "start_time": "2022-12-10T10:06:39.749Z"
   },
   {
    "duration": 5,
    "start_time": "2022-12-10T10:06:44.861Z"
   },
   {
    "duration": 31,
    "start_time": "2022-12-10T10:09:05.579Z"
   },
   {
    "duration": 114,
    "start_time": "2022-12-10T10:09:47.882Z"
   },
   {
    "duration": 4,
    "start_time": "2022-12-10T10:12:39.022Z"
   },
   {
    "duration": 57,
    "start_time": "2022-12-10T10:12:39.031Z"
   },
   {
    "duration": 11,
    "start_time": "2022-12-10T10:12:39.090Z"
   },
   {
    "duration": 19,
    "start_time": "2022-12-10T10:12:39.103Z"
   },
   {
    "duration": 12,
    "start_time": "2022-12-10T10:12:39.124Z"
   },
   {
    "duration": 19,
    "start_time": "2022-12-10T10:12:39.138Z"
   },
   {
    "duration": 46,
    "start_time": "2022-12-10T10:12:39.158Z"
   },
   {
    "duration": 7,
    "start_time": "2022-12-10T10:12:39.205Z"
   },
   {
    "duration": 58,
    "start_time": "2022-12-10T10:12:39.213Z"
   },
   {
    "duration": 126,
    "start_time": "2022-12-10T10:12:39.273Z"
   },
   {
    "duration": 101,
    "start_time": "2022-12-10T10:12:39.400Z"
   },
   {
    "duration": 196,
    "start_time": "2022-12-10T10:12:39.502Z"
   },
   {
    "duration": 112,
    "start_time": "2022-12-10T10:12:39.701Z"
   },
   {
    "duration": 5,
    "start_time": "2022-12-10T10:12:39.814Z"
   },
   {
    "duration": 16,
    "start_time": "2022-12-10T10:12:39.821Z"
   },
   {
    "duration": 15,
    "start_time": "2022-12-10T10:12:39.838Z"
   },
   {
    "duration": 6,
    "start_time": "2022-12-10T10:12:39.854Z"
   },
   {
    "duration": 5,
    "start_time": "2022-12-10T10:15:19.022Z"
   },
   {
    "duration": 106,
    "start_time": "2022-12-10T10:15:22.490Z"
   },
   {
    "duration": 26,
    "start_time": "2022-12-10T10:16:19.433Z"
   },
   {
    "duration": 3,
    "start_time": "2022-12-10T10:16:33.913Z"
   },
   {
    "duration": 54,
    "start_time": "2022-12-10T10:16:35.202Z"
   },
   {
    "duration": 11,
    "start_time": "2022-12-10T10:16:37.511Z"
   },
   {
    "duration": 19,
    "start_time": "2022-12-10T10:16:39.522Z"
   },
   {
    "duration": 12,
    "start_time": "2022-12-10T10:16:41.592Z"
   },
   {
    "duration": 17,
    "start_time": "2022-12-10T10:16:45.704Z"
   },
   {
    "duration": 18,
    "start_time": "2022-12-10T10:16:48.763Z"
   },
   {
    "duration": 7,
    "start_time": "2022-12-10T10:16:50.722Z"
   },
   {
    "duration": 130,
    "start_time": "2022-12-10T10:16:53.061Z"
   },
   {
    "duration": 94,
    "start_time": "2022-12-10T10:17:02.232Z"
   },
   {
    "duration": 25,
    "start_time": "2022-12-10T10:17:07.303Z"
   },
   {
    "duration": 29,
    "start_time": "2022-12-10T10:17:28.272Z"
   },
   {
    "duration": 18,
    "start_time": "2022-12-10T10:17:40.632Z"
   },
   {
    "duration": 6,
    "start_time": "2022-12-10T10:17:42.533Z"
   },
   {
    "duration": 5,
    "start_time": "2022-12-10T10:17:44.831Z"
   },
   {
    "duration": 7,
    "start_time": "2022-12-10T10:17:47.116Z"
   },
   {
    "duration": 6,
    "start_time": "2022-12-10T10:17:48.422Z"
   },
   {
    "duration": 81,
    "start_time": "2022-12-10T10:17:50.218Z"
   },
   {
    "duration": 9,
    "start_time": "2022-12-10T10:24:13.116Z"
   },
   {
    "duration": 110,
    "start_time": "2022-12-10T10:24:29.387Z"
   },
   {
    "duration": 4,
    "start_time": "2022-12-10T10:25:18.968Z"
   },
   {
    "duration": 59,
    "start_time": "2022-12-10T10:25:18.973Z"
   },
   {
    "duration": 11,
    "start_time": "2022-12-10T10:25:19.033Z"
   },
   {
    "duration": 19,
    "start_time": "2022-12-10T10:25:19.045Z"
   },
   {
    "duration": 11,
    "start_time": "2022-12-10T10:25:19.066Z"
   },
   {
    "duration": 18,
    "start_time": "2022-12-10T10:25:19.098Z"
   },
   {
    "duration": 22,
    "start_time": "2022-12-10T10:25:19.118Z"
   },
   {
    "duration": 7,
    "start_time": "2022-12-10T10:25:19.142Z"
   },
   {
    "duration": 88,
    "start_time": "2022-12-10T10:25:19.151Z"
   },
   {
    "duration": 113,
    "start_time": "2022-12-10T10:25:19.242Z"
   },
   {
    "duration": 43,
    "start_time": "2022-12-10T10:25:19.357Z"
   },
   {
    "duration": 200,
    "start_time": "2022-12-10T10:25:19.402Z"
   },
   {
    "duration": 108,
    "start_time": "2022-12-10T10:25:19.604Z"
   },
   {
    "duration": 5,
    "start_time": "2022-12-10T10:25:19.714Z"
   },
   {
    "duration": 5,
    "start_time": "2022-12-10T10:25:19.720Z"
   },
   {
    "duration": 7,
    "start_time": "2022-12-10T10:25:19.727Z"
   },
   {
    "duration": 4,
    "start_time": "2022-12-10T10:25:19.735Z"
   },
   {
    "duration": 790,
    "start_time": "2022-12-10T10:44:37.397Z"
   },
   {
    "duration": 820,
    "start_time": "2022-12-10T10:45:37.256Z"
   },
   {
    "duration": 3,
    "start_time": "2022-12-10T11:34:48.933Z"
   },
   {
    "duration": 58,
    "start_time": "2022-12-10T11:34:55.179Z"
   },
   {
    "duration": 15,
    "start_time": "2022-12-10T11:34:57.749Z"
   },
   {
    "duration": 23,
    "start_time": "2022-12-10T11:34:59.642Z"
   },
   {
    "duration": 11,
    "start_time": "2022-12-10T11:35:02.011Z"
   },
   {
    "duration": 19,
    "start_time": "2022-12-10T11:35:05.820Z"
   },
   {
    "duration": 20,
    "start_time": "2022-12-10T11:35:08.991Z"
   },
   {
    "duration": 7,
    "start_time": "2022-12-10T11:35:11.339Z"
   },
   {
    "duration": 57,
    "start_time": "2022-12-10T11:35:13.439Z"
   },
   {
    "duration": 103,
    "start_time": "2022-12-10T11:35:16.579Z"
   },
   {
    "duration": 26,
    "start_time": "2022-12-10T11:35:19.779Z"
   },
   {
    "duration": 23,
    "start_time": "2022-12-10T11:35:24.122Z"
   },
   {
    "duration": 759,
    "start_time": "2022-12-10T11:35:28.363Z"
   },
   {
    "duration": 793,
    "start_time": "2022-12-10T11:35:34.062Z"
   },
   {
    "duration": 26820,
    "start_time": "2022-12-10T11:35:43.779Z"
   },
   {
    "duration": 155064,
    "start_time": "2022-12-10T11:36:32.568Z"
   },
   {
    "duration": 4,
    "start_time": "2022-12-10T11:44:20.351Z"
   },
   {
    "duration": 64,
    "start_time": "2022-12-10T11:44:23.800Z"
   },
   {
    "duration": 12,
    "start_time": "2022-12-10T11:44:34.079Z"
   },
   {
    "duration": 19,
    "start_time": "2022-12-10T11:44:36.897Z"
   },
   {
    "duration": 13,
    "start_time": "2022-12-10T11:44:44.371Z"
   },
   {
    "duration": 18,
    "start_time": "2022-12-10T11:44:53.651Z"
   },
   {
    "duration": 17,
    "start_time": "2022-12-10T11:45:35.989Z"
   },
   {
    "duration": 18,
    "start_time": "2022-12-10T11:46:07.835Z"
   },
   {
    "duration": 7,
    "start_time": "2022-12-10T11:51:20.789Z"
   },
   {
    "duration": 1585,
    "start_time": "2023-03-12T07:48:26.880Z"
   },
   {
    "duration": 130,
    "start_time": "2023-03-12T07:48:29.525Z"
   },
   {
    "duration": 14,
    "start_time": "2023-03-12T07:48:54.992Z"
   },
   {
    "duration": 22,
    "start_time": "2023-03-12T07:49:23.584Z"
   },
   {
    "duration": 13,
    "start_time": "2023-03-12T07:50:01.634Z"
   },
   {
    "duration": 23,
    "start_time": "2023-03-12T07:50:12.305Z"
   },
   {
    "duration": 33,
    "start_time": "2023-03-12T07:50:55.686Z"
   },
   {
    "duration": 20,
    "start_time": "2023-03-12T07:58:28.708Z"
   },
   {
    "duration": 11,
    "start_time": "2023-03-12T08:01:44.723Z"
   },
   {
    "duration": 8,
    "start_time": "2023-03-12T08:01:59.480Z"
   },
   {
    "duration": 131,
    "start_time": "2023-03-12T08:02:42.065Z"
   },
   {
    "duration": 22,
    "start_time": "2023-03-12T08:03:12.759Z"
   },
   {
    "duration": 74,
    "start_time": "2023-03-12T08:05:36.837Z"
   },
   {
    "duration": 11,
    "start_time": "2023-03-12T08:07:07.024Z"
   },
   {
    "duration": 1218,
    "start_time": "2023-03-12T08:09:31.427Z"
   },
   {
    "duration": 137,
    "start_time": "2023-03-12T08:11:12.385Z"
   },
   {
    "duration": 73,
    "start_time": "2023-03-12T08:13:05.894Z"
   },
   {
    "duration": 31,
    "start_time": "2023-03-12T08:13:14.203Z"
   },
   {
    "duration": 38,
    "start_time": "2023-03-12T08:13:24.818Z"
   },
   {
    "duration": 13,
    "start_time": "2023-03-12T09:08:59.605Z"
   },
   {
    "duration": 70,
    "start_time": "2023-03-12T09:11:49.914Z"
   },
   {
    "duration": 149,
    "start_time": "2023-03-12T09:11:56.888Z"
   },
   {
    "duration": 31,
    "start_time": "2023-03-12T09:12:06.864Z"
   },
   {
    "duration": 28,
    "start_time": "2023-03-12T09:12:33.237Z"
   },
   {
    "duration": 13,
    "start_time": "2023-03-12T09:12:43.514Z"
   },
   {
    "duration": 114,
    "start_time": "2023-03-12T09:14:20.551Z"
   },
   {
    "duration": 11,
    "start_time": "2023-03-12T09:14:32.929Z"
   },
   {
    "duration": 9,
    "start_time": "2023-03-12T09:14:42.587Z"
   },
   {
    "duration": 3,
    "start_time": "2023-03-12T09:15:05.804Z"
   },
   {
    "duration": 55,
    "start_time": "2023-03-12T09:15:08.283Z"
   },
   {
    "duration": 15,
    "start_time": "2023-03-12T09:15:21.441Z"
   },
   {
    "duration": 20,
    "start_time": "2023-03-12T09:15:29.103Z"
   },
   {
    "duration": 14,
    "start_time": "2023-03-12T09:15:31.925Z"
   },
   {
    "duration": 18,
    "start_time": "2023-03-12T09:15:36.999Z"
   },
   {
    "duration": 23,
    "start_time": "2023-03-12T09:15:43.496Z"
   },
   {
    "duration": 15,
    "start_time": "2023-03-12T09:15:52.031Z"
   },
   {
    "duration": 61,
    "start_time": "2023-03-12T09:16:08.341Z"
   },
   {
    "duration": 144,
    "start_time": "2023-03-12T09:16:35.303Z"
   },
   {
    "duration": 36,
    "start_time": "2023-03-12T09:16:40.692Z"
   },
   {
    "duration": 52,
    "start_time": "2023-03-12T09:16:51.009Z"
   },
   {
    "duration": 10,
    "start_time": "2023-03-12T09:16:54.742Z"
   },
   {
    "duration": 53,
    "start_time": "2023-03-12T09:23:06.391Z"
   },
   {
    "duration": 56,
    "start_time": "2023-03-12T09:32:49.856Z"
   },
   {
    "duration": 13,
    "start_time": "2023-03-12T09:39:10.637Z"
   },
   {
    "duration": 98,
    "start_time": "2023-03-12T09:39:44.084Z"
   },
   {
    "duration": 48,
    "start_time": "2023-03-12T09:47:40.590Z"
   },
   {
    "duration": 28,
    "start_time": "2023-03-12T09:53:52.194Z"
   },
   {
    "duration": 26,
    "start_time": "2023-03-12T09:53:58.975Z"
   },
   {
    "duration": 799,
    "start_time": "2023-03-12T09:58:55.451Z"
   },
   {
    "duration": 44,
    "start_time": "2023-03-12T10:08:02.093Z"
   },
   {
    "duration": 759,
    "start_time": "2023-03-12T10:10:07.484Z"
   },
   {
    "duration": 156,
    "start_time": "2023-03-12T10:13:05.408Z"
   },
   {
    "duration": 85,
    "start_time": "2023-03-12T10:17:35.980Z"
   },
   {
    "duration": 49,
    "start_time": "2023-03-12T10:24:00.224Z"
   },
   {
    "duration": 73,
    "start_time": "2023-03-12T10:26:40.698Z"
   },
   {
    "duration": 41,
    "start_time": "2023-03-12T10:26:50.097Z"
   },
   {
    "duration": 44,
    "start_time": "2023-03-12T10:29:48.343Z"
   },
   {
    "duration": 891,
    "start_time": "2023-03-12T10:31:46.653Z"
   },
   {
    "duration": 11,
    "start_time": "2023-03-12T10:38:50.616Z"
   },
   {
    "duration": 20,
    "start_time": "2023-03-12T10:39:53.361Z"
   },
   {
    "duration": 6,
    "start_time": "2023-03-12T10:42:01.608Z"
   },
   {
    "duration": 4,
    "start_time": "2023-03-12T10:42:24.248Z"
   },
   {
    "duration": 5,
    "start_time": "2023-03-12T10:47:32.878Z"
   },
   {
    "duration": 8,
    "start_time": "2023-03-12T10:49:04.113Z"
   },
   {
    "duration": 6,
    "start_time": "2023-03-12T10:49:36.874Z"
   },
   {
    "duration": 25,
    "start_time": "2023-03-12T10:51:07.224Z"
   },
   {
    "duration": 110,
    "start_time": "2023-03-12T10:53:05.447Z"
   },
   {
    "duration": 75,
    "start_time": "2023-03-12T10:53:58.083Z"
   },
   {
    "duration": 1538,
    "start_time": "2023-03-13T15:03:31.323Z"
   },
   {
    "duration": 118,
    "start_time": "2023-03-13T15:03:32.863Z"
   },
   {
    "duration": 14,
    "start_time": "2023-03-13T15:03:36.653Z"
   },
   {
    "duration": 21,
    "start_time": "2023-03-13T15:03:39.146Z"
   },
   {
    "duration": 12,
    "start_time": "2023-03-13T15:03:41.353Z"
   },
   {
    "duration": 21,
    "start_time": "2023-03-13T15:03:46.196Z"
   },
   {
    "duration": 21,
    "start_time": "2023-03-13T15:03:54.594Z"
   },
   {
    "duration": 15,
    "start_time": "2023-03-13T15:03:58.951Z"
   },
   {
    "duration": 62,
    "start_time": "2023-03-13T15:04:05.594Z"
   },
   {
    "duration": 38,
    "start_time": "2023-03-13T15:04:12.352Z"
   },
   {
    "duration": 52,
    "start_time": "2023-03-13T15:05:47.705Z"
   },
   {
    "duration": 13,
    "start_time": "2023-03-13T15:05:55.480Z"
   },
   {
    "duration": 59,
    "start_time": "2023-03-13T15:06:06.573Z"
   },
   {
    "duration": 40,
    "start_time": "2023-03-13T15:06:23.818Z"
   },
   {
    "duration": 792,
    "start_time": "2023-03-13T15:06:32.522Z"
   },
   {
    "duration": 150,
    "start_time": "2023-03-13T15:06:50.541Z"
   },
   {
    "duration": 112,
    "start_time": "2023-03-13T15:06:57.923Z"
   },
   {
    "duration": 199,
    "start_time": "2023-03-13T15:08:03.492Z"
   },
   {
    "duration": 48,
    "start_time": "2023-03-13T15:08:17.705Z"
   },
   {
    "duration": 777,
    "start_time": "2023-03-13T15:08:25.707Z"
   },
   {
    "duration": 19,
    "start_time": "2023-03-13T15:08:41.278Z"
   },
   {
    "duration": 6,
    "start_time": "2023-03-13T15:08:51.119Z"
   },
   {
    "duration": 4,
    "start_time": "2023-03-13T15:09:07.669Z"
   },
   {
    "duration": 8,
    "start_time": "2023-03-13T15:09:10.509Z"
   },
   {
    "duration": 7,
    "start_time": "2023-03-13T15:09:12.119Z"
   },
   {
    "duration": 204,
    "start_time": "2023-03-13T15:10:06.586Z"
   },
   {
    "duration": 7,
    "start_time": "2023-03-13T15:15:12.374Z"
   },
   {
    "duration": 10,
    "start_time": "2023-03-13T15:15:29.018Z"
   },
   {
    "duration": 9,
    "start_time": "2023-03-13T15:17:29.763Z"
   },
   {
    "duration": 6,
    "start_time": "2023-03-13T15:18:14.247Z"
   },
   {
    "duration": 59,
    "start_time": "2023-03-13T15:22:42.526Z"
   },
   {
    "duration": 61,
    "start_time": "2023-03-13T16:00:26.723Z"
   },
   {
    "duration": 73,
    "start_time": "2023-03-13T16:22:51.724Z"
   },
   {
    "duration": 12,
    "start_time": "2023-03-13T16:23:06.777Z"
   },
   {
    "duration": 98,
    "start_time": "2023-03-13T16:23:16.284Z"
   },
   {
    "duration": 68,
    "start_time": "2023-03-13T16:23:25.362Z"
   },
   {
    "duration": 100,
    "start_time": "2023-03-13T16:23:47.393Z"
   },
   {
    "duration": 10,
    "start_time": "2023-03-13T16:24:15.131Z"
   },
   {
    "duration": 387,
    "start_time": "2023-03-13T16:26:35.734Z"
   },
   {
    "duration": 397,
    "start_time": "2023-03-13T16:27:39.930Z"
   },
   {
    "duration": 4,
    "start_time": "2023-03-16T09:57:50.799Z"
   },
   {
    "duration": 76,
    "start_time": "2023-03-16T09:58:09.304Z"
   },
   {
    "duration": 13,
    "start_time": "2023-03-16T09:58:14.770Z"
   },
   {
    "duration": 25,
    "start_time": "2023-03-16T09:58:20.159Z"
   },
   {
    "duration": 27,
    "start_time": "2023-03-16T09:58:25.116Z"
   },
   {
    "duration": 22,
    "start_time": "2023-03-16T09:58:32.267Z"
   },
   {
    "duration": 29,
    "start_time": "2023-03-16T09:58:51.960Z"
   },
   {
    "duration": 101,
    "start_time": "2023-03-16T10:02:08.958Z"
   },
   {
    "duration": 20,
    "start_time": "2023-03-16T10:02:16.418Z"
   },
   {
    "duration": 56,
    "start_time": "2023-03-16T10:03:36.671Z"
   },
   {
    "duration": 90,
    "start_time": "2023-03-16T10:06:19.444Z"
   },
   {
    "duration": 2,
    "start_time": "2023-03-16T10:08:19.290Z"
   },
   {
    "duration": 5,
    "start_time": "2023-03-16T10:09:16.065Z"
   },
   {
    "duration": 2,
    "start_time": "2023-03-16T10:09:44.370Z"
   },
   {
    "duration": 58,
    "start_time": "2023-03-16T10:12:19.109Z"
   },
   {
    "duration": 773,
    "start_time": "2023-03-16T10:18:54.825Z"
   },
   {
    "duration": 156,
    "start_time": "2023-03-16T10:20:48.902Z"
   },
   {
    "duration": 115,
    "start_time": "2023-03-16T10:26:17.624Z"
   },
   {
    "duration": 46,
    "start_time": "2023-03-16T10:30:16.292Z"
   },
   {
    "duration": 836,
    "start_time": "2023-03-16T10:40:11.378Z"
   },
   {
    "duration": 23,
    "start_time": "2023-03-16T10:45:22.104Z"
   },
   {
    "duration": 7,
    "start_time": "2023-03-16T10:45:48.096Z"
   },
   {
    "duration": 5,
    "start_time": "2023-03-16T10:45:58.603Z"
   },
   {
    "duration": 8,
    "start_time": "2023-03-16T10:47:01.261Z"
   },
   {
    "duration": 28,
    "start_time": "2023-03-16T10:47:37.627Z"
   },
   {
    "duration": 7,
    "start_time": "2023-03-16T10:47:59.217Z"
   },
   {
    "duration": 6,
    "start_time": "2023-03-16T10:48:48.490Z"
   },
   {
    "duration": 11,
    "start_time": "2023-03-16T10:49:20.362Z"
   },
   {
    "duration": 123,
    "start_time": "2023-03-16T10:49:20.375Z"
   },
   {
    "duration": 12,
    "start_time": "2023-03-16T10:49:20.500Z"
   },
   {
    "duration": 101,
    "start_time": "2023-03-16T10:49:20.514Z"
   },
   {
    "duration": 14,
    "start_time": "2023-03-16T10:49:20.618Z"
   },
   {
    "duration": 72,
    "start_time": "2023-03-16T10:49:20.639Z"
   },
   {
    "duration": 40,
    "start_time": "2023-03-16T10:49:20.713Z"
   },
   {
    "duration": 44,
    "start_time": "2023-03-16T10:49:20.755Z"
   },
   {
    "duration": 62,
    "start_time": "2023-03-16T10:49:20.801Z"
   },
   {
    "duration": 79,
    "start_time": "2023-03-16T10:49:20.865Z"
   },
   {
    "duration": 91,
    "start_time": "2023-03-16T10:49:20.948Z"
   },
   {
    "duration": 47,
    "start_time": "2023-03-16T10:49:21.055Z"
   },
   {
    "duration": 24,
    "start_time": "2023-03-16T10:49:21.104Z"
   },
   {
    "duration": 175,
    "start_time": "2023-03-16T10:49:21.131Z"
   },
   {
    "duration": 948,
    "start_time": "2023-03-16T10:49:21.308Z"
   },
   {
    "duration": 168,
    "start_time": "2023-03-16T10:49:22.261Z"
   },
   {
    "duration": 55,
    "start_time": "2023-03-16T10:49:22.432Z"
   },
   {
    "duration": 205,
    "start_time": "2023-03-16T10:49:22.489Z"
   },
   {
    "duration": 939,
    "start_time": "2023-03-16T10:49:22.697Z"
   },
   {
    "duration": 9,
    "start_time": "2023-03-16T10:49:23.638Z"
   },
   {
    "duration": 72,
    "start_time": "2023-03-16T10:49:23.648Z"
   },
   {
    "duration": 84,
    "start_time": "2023-03-16T10:49:23.722Z"
   },
   {
    "duration": 10,
    "start_time": "2023-03-16T10:49:23.808Z"
   },
   {
    "duration": 6,
    "start_time": "2023-03-16T10:49:23.820Z"
   },
   {
    "duration": 13,
    "start_time": "2023-03-16T10:49:32.531Z"
   },
   {
    "duration": 10,
    "start_time": "2023-03-16T10:49:42.892Z"
   },
   {
    "duration": 119,
    "start_time": "2023-03-16T10:49:42.905Z"
   },
   {
    "duration": 35,
    "start_time": "2023-03-16T10:49:43.026Z"
   },
   {
    "duration": 84,
    "start_time": "2023-03-16T10:49:43.064Z"
   },
   {
    "duration": 29,
    "start_time": "2023-03-16T10:49:43.151Z"
   },
   {
    "duration": 71,
    "start_time": "2023-03-16T10:49:43.182Z"
   },
   {
    "duration": 93,
    "start_time": "2023-03-16T10:49:43.255Z"
   },
   {
    "duration": 20,
    "start_time": "2023-03-16T10:49:43.351Z"
   },
   {
    "duration": 118,
    "start_time": "2023-03-16T10:49:43.373Z"
   },
   {
    "duration": 82,
    "start_time": "2023-03-16T10:49:43.501Z"
   },
   {
    "duration": 6,
    "start_time": "2023-03-16T10:49:43.657Z"
   },
   {
    "duration": 54,
    "start_time": "2023-03-16T10:49:43.667Z"
   },
   {
    "duration": 9,
    "start_time": "2023-03-16T10:49:43.724Z"
   },
   {
    "duration": 129,
    "start_time": "2023-03-16T10:49:43.736Z"
   },
   {
    "duration": 953,
    "start_time": "2023-03-16T10:49:43.870Z"
   },
   {
    "duration": 213,
    "start_time": "2023-03-16T10:49:44.825Z"
   },
   {
    "duration": 64,
    "start_time": "2023-03-16T10:49:45.040Z"
   },
   {
    "duration": 147,
    "start_time": "2023-03-16T10:49:45.109Z"
   },
   {
    "duration": 1021,
    "start_time": "2023-03-16T10:49:45.263Z"
   },
   {
    "duration": 11,
    "start_time": "2023-03-16T10:49:46.288Z"
   },
   {
    "duration": 30,
    "start_time": "2023-03-16T10:49:46.305Z"
   },
   {
    "duration": 76,
    "start_time": "2023-03-16T10:49:46.343Z"
   },
   {
    "duration": 17,
    "start_time": "2023-03-16T10:49:46.421Z"
   },
   {
    "duration": 7,
    "start_time": "2023-03-16T10:49:57.717Z"
   },
   {
    "duration": 70,
    "start_time": "2023-03-16T10:52:58.891Z"
   },
   {
    "duration": 57,
    "start_time": "2023-03-16T10:58:01.660Z"
   },
   {
    "duration": 17,
    "start_time": "2023-03-16T11:04:36.981Z"
   },
   {
    "duration": 531,
    "start_time": "2023-03-16T11:07:20.366Z"
   },
   {
    "duration": 17,
    "start_time": "2023-03-16T11:21:57.909Z"
   },
   {
    "duration": 10790,
    "start_time": "2023-03-16T11:24:19.088Z"
   },
   {
    "duration": 11217,
    "start_time": "2023-03-16T11:27:40.816Z"
   },
   {
    "duration": 231956,
    "start_time": "2023-03-16T11:28:08.405Z"
   },
   {
    "duration": 59513,
    "start_time": "2023-03-16T11:33:09.228Z"
   },
   {
    "duration": 629467,
    "start_time": "2023-03-16T11:36:00.121Z"
   },
   {
    "duration": 450,
    "start_time": "2023-03-16T11:57:06.523Z"
   },
   {
    "duration": 916,
    "start_time": "2023-03-16T11:58:38.629Z"
   },
   {
    "duration": 1132,
    "start_time": "2023-03-16T11:58:51.318Z"
   },
   {
    "duration": 662,
    "start_time": "2023-03-16T11:58:58.486Z"
   },
   {
    "duration": 367,
    "start_time": "2023-03-16T11:59:04.323Z"
   },
   {
    "duration": 774,
    "start_time": "2023-03-16T11:59:10.899Z"
   },
   {
    "duration": 24829,
    "start_time": "2023-03-16T12:00:23.656Z"
   },
   {
    "duration": 245114,
    "start_time": "2023-03-16T12:01:09.926Z"
   },
   {
    "duration": 65,
    "start_time": "2023-03-17T07:49:48.947Z"
   },
   {
    "duration": 51,
    "start_time": "2023-03-17T07:50:44.897Z"
   },
   {
    "duration": 56,
    "start_time": "2023-03-17T07:51:01.752Z"
   },
   {
    "duration": 47,
    "start_time": "2023-03-17T07:51:41.066Z"
   },
   {
    "duration": 1703,
    "start_time": "2023-03-17T07:53:42.693Z"
   },
   {
    "duration": 183,
    "start_time": "2023-03-17T07:53:44.398Z"
   },
   {
    "duration": 17,
    "start_time": "2023-03-17T07:53:44.583Z"
   },
   {
    "duration": 23,
    "start_time": "2023-03-17T07:53:44.603Z"
   },
   {
    "duration": 14,
    "start_time": "2023-03-17T07:53:44.628Z"
   },
   {
    "duration": 21,
    "start_time": "2023-03-17T07:53:44.644Z"
   },
   {
    "duration": 25,
    "start_time": "2023-03-17T07:53:44.695Z"
   },
   {
    "duration": 119,
    "start_time": "2023-03-17T07:53:44.721Z"
   },
   {
    "duration": 0,
    "start_time": "2023-03-17T07:53:44.842Z"
   },
   {
    "duration": 0,
    "start_time": "2023-03-17T07:53:44.843Z"
   },
   {
    "duration": 0,
    "start_time": "2023-03-17T07:53:44.844Z"
   },
   {
    "duration": 0,
    "start_time": "2023-03-17T07:53:44.845Z"
   },
   {
    "duration": 0,
    "start_time": "2023-03-17T07:53:44.846Z"
   },
   {
    "duration": 0,
    "start_time": "2023-03-17T07:53:44.847Z"
   },
   {
    "duration": 0,
    "start_time": "2023-03-17T07:53:44.848Z"
   },
   {
    "duration": 0,
    "start_time": "2023-03-17T07:53:44.849Z"
   },
   {
    "duration": 0,
    "start_time": "2023-03-17T07:53:44.860Z"
   },
   {
    "duration": 0,
    "start_time": "2023-03-17T07:53:44.861Z"
   },
   {
    "duration": 0,
    "start_time": "2023-03-17T07:53:44.863Z"
   },
   {
    "duration": 0,
    "start_time": "2023-03-17T07:53:44.864Z"
   },
   {
    "duration": 0,
    "start_time": "2023-03-17T07:53:44.865Z"
   },
   {
    "duration": 0,
    "start_time": "2023-03-17T07:53:44.896Z"
   },
   {
    "duration": 0,
    "start_time": "2023-03-17T07:53:44.897Z"
   },
   {
    "duration": 0,
    "start_time": "2023-03-17T07:53:44.898Z"
   },
   {
    "duration": 1,
    "start_time": "2023-03-17T07:53:44.899Z"
   },
   {
    "duration": 0,
    "start_time": "2023-03-17T07:53:44.901Z"
   },
   {
    "duration": 0,
    "start_time": "2023-03-17T07:53:44.902Z"
   },
   {
    "duration": 0,
    "start_time": "2023-03-17T07:53:44.903Z"
   },
   {
    "duration": 0,
    "start_time": "2023-03-17T07:53:44.904Z"
   },
   {
    "duration": 0,
    "start_time": "2023-03-17T07:53:44.905Z"
   },
   {
    "duration": 0,
    "start_time": "2023-03-17T07:53:44.906Z"
   },
   {
    "duration": 0,
    "start_time": "2023-03-17T07:53:44.907Z"
   },
   {
    "duration": 0,
    "start_time": "2023-03-17T07:53:44.909Z"
   },
   {
    "duration": 10,
    "start_time": "2023-03-17T07:54:28.551Z"
   },
   {
    "duration": 5,
    "start_time": "2023-03-17T07:54:43.444Z"
   },
   {
    "duration": 60,
    "start_time": "2023-03-17T07:54:43.978Z"
   },
   {
    "duration": 13,
    "start_time": "2023-03-17T07:54:45.769Z"
   },
   {
    "duration": 19,
    "start_time": "2023-03-17T07:54:46.917Z"
   },
   {
    "duration": 12,
    "start_time": "2023-03-17T07:54:47.929Z"
   },
   {
    "duration": 19,
    "start_time": "2023-03-17T07:54:49.470Z"
   },
   {
    "duration": 19,
    "start_time": "2023-03-17T07:54:51.179Z"
   },
   {
    "duration": 15,
    "start_time": "2023-03-17T07:54:52.171Z"
   },
   {
    "duration": 14,
    "start_time": "2023-03-17T07:56:28.071Z"
   },
   {
    "duration": 13,
    "start_time": "2023-03-17T07:57:14.670Z"
   },
   {
    "duration": 53,
    "start_time": "2023-03-17T07:57:20.231Z"
   },
   {
    "duration": 98,
    "start_time": "2023-03-17T07:57:26.101Z"
   },
   {
    "duration": 3,
    "start_time": "2023-03-17T07:57:33.380Z"
   },
   {
    "duration": 4,
    "start_time": "2023-03-17T07:57:36.043Z"
   },
   {
    "duration": 3,
    "start_time": "2023-03-17T07:57:38.041Z"
   },
   {
    "duration": 45,
    "start_time": "2023-03-17T07:57:41.222Z"
   },
   {
    "duration": 748,
    "start_time": "2023-03-17T07:57:46.824Z"
   },
   {
    "duration": 125,
    "start_time": "2023-03-17T07:57:55.540Z"
   },
   {
    "duration": 173,
    "start_time": "2023-03-17T07:58:07.121Z"
   },
   {
    "duration": 53,
    "start_time": "2023-03-17T07:58:13.839Z"
   },
   {
    "duration": 794,
    "start_time": "2023-03-17T07:58:20.481Z"
   },
   {
    "duration": 6,
    "start_time": "2023-03-17T07:58:25.355Z"
   },
   {
    "duration": 5,
    "start_time": "2023-03-17T07:58:27.850Z"
   },
   {
    "duration": 5,
    "start_time": "2023-03-17T07:58:29.840Z"
   },
   {
    "duration": 11,
    "start_time": "2023-03-17T07:58:30.969Z"
   },
   {
    "duration": 7,
    "start_time": "2023-03-17T07:58:32.829Z"
   },
   {
    "duration": 108,
    "start_time": "2023-03-17T07:58:33.691Z"
   },
   {
    "duration": 44,
    "start_time": "2023-03-17T07:58:41.750Z"
   },
   {
    "duration": 14,
    "start_time": "2023-03-17T07:58:57.121Z"
   },
   {
    "duration": 387,
    "start_time": "2023-03-17T07:58:59.351Z"
   },
   {
    "duration": 9793,
    "start_time": "2023-03-17T07:59:07.624Z"
   },
   {
    "duration": 54536,
    "start_time": "2023-03-17T07:59:32.345Z"
   },
   {
    "duration": 1345,
    "start_time": "2023-03-17T08:21:16.490Z"
   },
   {
    "duration": 58,
    "start_time": "2023-03-17T08:21:17.838Z"
   },
   {
    "duration": 12,
    "start_time": "2023-03-17T08:21:17.898Z"
   },
   {
    "duration": 24,
    "start_time": "2023-03-17T08:21:17.912Z"
   },
   {
    "duration": 12,
    "start_time": "2023-03-17T08:21:17.937Z"
   },
   {
    "duration": 20,
    "start_time": "2023-03-17T08:21:17.951Z"
   },
   {
    "duration": 21,
    "start_time": "2023-03-17T08:21:17.996Z"
   },
   {
    "duration": 16,
    "start_time": "2023-03-17T08:21:18.018Z"
   },
   {
    "duration": 67,
    "start_time": "2023-03-17T08:21:18.036Z"
   },
   {
    "duration": 91,
    "start_time": "2023-03-17T08:21:18.106Z"
   },
   {
    "duration": 95,
    "start_time": "2023-03-17T08:21:18.199Z"
   },
   {
    "duration": 9,
    "start_time": "2023-03-17T08:21:18.296Z"
   },
   {
    "duration": 8,
    "start_time": "2023-03-17T08:21:18.307Z"
   },
   {
    "duration": 49,
    "start_time": "2023-03-17T08:21:18.317Z"
   },
   {
    "duration": 723,
    "start_time": "2023-03-17T08:21:18.367Z"
   },
   {
    "duration": 137,
    "start_time": "2023-03-17T08:21:19.094Z"
   },
   {
    "duration": 163,
    "start_time": "2023-03-17T08:21:19.233Z"
   },
   {
    "duration": 40,
    "start_time": "2023-03-17T08:21:19.398Z"
   },
   {
    "duration": 709,
    "start_time": "2023-03-17T08:21:19.440Z"
   },
   {
    "duration": 7,
    "start_time": "2023-03-17T08:21:20.150Z"
   },
   {
    "duration": 37,
    "start_time": "2023-03-17T08:21:20.159Z"
   },
   {
    "duration": 15,
    "start_time": "2023-03-17T08:21:20.198Z"
   },
   {
    "duration": 15,
    "start_time": "2023-03-17T08:21:20.215Z"
   },
   {
    "duration": 11,
    "start_time": "2023-03-17T08:21:20.231Z"
   },
   {
    "duration": 60,
    "start_time": "2023-03-17T08:21:20.243Z"
   },
   {
    "duration": 44,
    "start_time": "2023-03-17T08:21:20.395Z"
   },
   {
    "duration": 10,
    "start_time": "2023-03-17T08:21:20.441Z"
   },
   {
    "duration": 403,
    "start_time": "2023-03-17T08:21:20.454Z"
   },
   {
    "duration": 9941,
    "start_time": "2023-03-17T08:21:20.858Z"
   },
   {
    "duration": 54344,
    "start_time": "2023-03-17T08:21:30.801Z"
   },
   {
    "duration": 3,
    "start_time": "2023-03-17T08:22:25.147Z"
   },
   {
    "duration": 9,
    "start_time": "2023-03-17T08:22:25.152Z"
   },
   {
    "duration": 933,
    "start_time": "2023-03-17T08:22:25.163Z"
   },
   {
    "duration": 711,
    "start_time": "2023-03-17T08:22:26.098Z"
   },
   {
    "duration": 4,
    "start_time": "2023-03-17T08:23:16.642Z"
   },
   {
    "duration": 56,
    "start_time": "2023-03-17T08:23:17.503Z"
   },
   {
    "duration": 13,
    "start_time": "2023-03-17T08:23:23.743Z"
   },
   {
    "duration": 21,
    "start_time": "2023-03-17T08:23:27.703Z"
   },
   {
    "duration": 16,
    "start_time": "2023-03-17T08:23:36.044Z"
   },
   {
    "duration": 19,
    "start_time": "2023-03-17T08:23:38.103Z"
   },
   {
    "duration": 22,
    "start_time": "2023-03-17T08:23:40.207Z"
   },
   {
    "duration": 14,
    "start_time": "2023-03-17T08:23:41.845Z"
   },
   {
    "duration": 47,
    "start_time": "2023-03-17T08:23:44.929Z"
   },
   {
    "duration": 81,
    "start_time": "2023-03-17T08:23:49.013Z"
   },
   {
    "duration": 3,
    "start_time": "2023-03-17T08:23:53.163Z"
   },
   {
    "duration": 3,
    "start_time": "2023-03-17T08:23:55.267Z"
   },
   {
    "duration": 2,
    "start_time": "2023-03-17T08:23:57.224Z"
   },
   {
    "duration": 39,
    "start_time": "2023-03-17T08:23:58.604Z"
   },
   {
    "duration": 716,
    "start_time": "2023-03-17T08:24:00.943Z"
   },
   {
    "duration": 1561,
    "start_time": "2023-03-18T10:19:15.830Z"
   },
   {
    "duration": 200,
    "start_time": "2023-03-18T10:19:20.278Z"
   },
   {
    "duration": 18,
    "start_time": "2023-03-18T10:19:23.907Z"
   },
   {
    "duration": 27,
    "start_time": "2023-03-18T10:19:31.119Z"
   },
   {
    "duration": 12,
    "start_time": "2023-03-18T10:19:35.605Z"
   },
   {
    "duration": 21,
    "start_time": "2023-03-18T10:19:42.582Z"
   },
   {
    "duration": 28,
    "start_time": "2023-03-18T10:19:47.947Z"
   },
   {
    "duration": 15,
    "start_time": "2023-03-18T10:20:07.580Z"
   },
   {
    "duration": 46,
    "start_time": "2023-03-18T10:20:13.692Z"
   },
   {
    "duration": 76,
    "start_time": "2023-03-18T10:20:19.995Z"
   },
   {
    "duration": 3,
    "start_time": "2023-03-18T10:20:28.957Z"
   },
   {
    "duration": 3,
    "start_time": "2023-03-18T10:20:31.551Z"
   },
   {
    "duration": 3,
    "start_time": "2023-03-18T10:20:33.693Z"
   },
   {
    "duration": 44,
    "start_time": "2023-03-18T10:20:35.145Z"
   },
   {
    "duration": 751,
    "start_time": "2023-03-18T10:20:43.030Z"
   },
   {
    "duration": 161,
    "start_time": "2023-03-18T10:21:18.057Z"
   },
   {
    "duration": 26,
    "start_time": "2023-03-18T10:21:26.644Z"
   },
   {
    "duration": 38,
    "start_time": "2023-03-18T10:21:34.588Z"
   },
   {
    "duration": 724,
    "start_time": "2023-03-18T10:22:09.030Z"
   },
   {
    "duration": 8,
    "start_time": "2023-03-18T10:22:17.616Z"
   },
   {
    "duration": 5,
    "start_time": "2023-03-18T10:22:18.548Z"
   },
   {
    "duration": 4,
    "start_time": "2023-03-18T10:22:20.382Z"
   },
   {
    "duration": 8,
    "start_time": "2023-03-18T10:22:21.198Z"
   },
   {
    "duration": 6,
    "start_time": "2023-03-18T10:22:22.120Z"
   },
   {
    "duration": 109,
    "start_time": "2023-03-18T10:22:23.557Z"
   },
   {
    "duration": 46,
    "start_time": "2023-03-18T10:22:30.800Z"
   },
   {
    "duration": 20,
    "start_time": "2023-03-18T10:22:34.658Z"
   },
   {
    "duration": 413,
    "start_time": "2023-03-18T10:22:38.136Z"
   },
   {
    "duration": 10079,
    "start_time": "2023-03-18T10:22:48.845Z"
   },
   {
    "duration": 57474,
    "start_time": "2023-03-18T10:23:00.505Z"
   },
   {
    "duration": 3,
    "start_time": "2023-03-18T10:23:57.981Z"
   },
   {
    "duration": 14,
    "start_time": "2023-03-18T10:23:57.987Z"
   },
   {
    "duration": 682,
    "start_time": "2023-03-18T10:23:58.004Z"
   },
   {
    "duration": 539,
    "start_time": "2023-03-18T10:23:58.767Z"
   },
   {
    "duration": 58924,
    "start_time": "2023-03-18T10:28:42.113Z"
   },
   {
    "duration": 488,
    "start_time": "2023-03-18T10:30:55.459Z"
   },
   {
    "duration": 125,
    "start_time": "2023-03-18T10:39:32.399Z"
   },
   {
    "duration": 143,
    "start_time": "2023-03-18T10:42:45.415Z"
   },
   {
    "duration": 37,
    "start_time": "2023-03-18T10:52:05.044Z"
   },
   {
    "duration": 5,
    "start_time": "2023-03-18T10:52:37.284Z"
   },
   {
    "duration": 63,
    "start_time": "2023-03-18T10:52:37.292Z"
   },
   {
    "duration": 16,
    "start_time": "2023-03-18T10:52:37.357Z"
   },
   {
    "duration": 42,
    "start_time": "2023-03-18T10:52:37.376Z"
   },
   {
    "duration": 18,
    "start_time": "2023-03-18T10:52:37.421Z"
   },
   {
    "duration": 50,
    "start_time": "2023-03-18T10:52:37.440Z"
   },
   {
    "duration": 29,
    "start_time": "2023-03-18T10:52:37.492Z"
   },
   {
    "duration": 44,
    "start_time": "2023-03-18T10:52:37.523Z"
   },
   {
    "duration": 55,
    "start_time": "2023-03-18T10:52:37.569Z"
   },
   {
    "duration": 164,
    "start_time": "2023-03-18T10:52:37.626Z"
   },
   {
    "duration": 69,
    "start_time": "2023-03-18T10:52:37.797Z"
   },
   {
    "duration": 4,
    "start_time": "2023-03-18T10:52:37.871Z"
   },
   {
    "duration": 11,
    "start_time": "2023-03-18T10:52:37.877Z"
   },
   {
    "duration": 70,
    "start_time": "2023-03-18T10:52:37.893Z"
   },
   {
    "duration": 783,
    "start_time": "2023-03-18T10:52:37.965Z"
   },
   {
    "duration": 141,
    "start_time": "2023-03-18T10:52:38.750Z"
   },
   {
    "duration": 79,
    "start_time": "2023-03-18T10:52:38.893Z"
   },
   {
    "duration": 126,
    "start_time": "2023-03-18T10:52:38.976Z"
   },
   {
    "duration": 781,
    "start_time": "2023-03-18T10:52:39.104Z"
   },
   {
    "duration": 9,
    "start_time": "2023-03-18T10:52:39.887Z"
   },
   {
    "duration": 11,
    "start_time": "2023-03-18T10:52:39.897Z"
   },
   {
    "duration": 8,
    "start_time": "2023-03-18T10:52:39.910Z"
   },
   {
    "duration": 45,
    "start_time": "2023-03-18T10:52:39.920Z"
   },
   {
    "duration": 6,
    "start_time": "2023-03-18T10:52:39.967Z"
   },
   {
    "duration": 102,
    "start_time": "2023-03-18T10:52:39.987Z"
   },
   {
    "duration": 125,
    "start_time": "2023-03-18T10:52:40.092Z"
   },
   {
    "duration": 13,
    "start_time": "2023-03-18T10:52:40.219Z"
   },
   {
    "duration": 429,
    "start_time": "2023-03-18T10:52:40.234Z"
   },
   {
    "duration": 11247,
    "start_time": "2023-03-18T10:52:40.665Z"
   },
   {
    "duration": 59039,
    "start_time": "2023-03-18T10:52:51.914Z"
   },
   {
    "duration": 8,
    "start_time": "2023-03-18T10:53:50.954Z"
   },
   {
    "duration": 22,
    "start_time": "2023-03-18T10:53:50.963Z"
   },
   {
    "duration": 480,
    "start_time": "2023-03-18T10:53:50.987Z"
   },
   {
    "duration": 570,
    "start_time": "2023-03-18T10:53:51.469Z"
   },
   {
    "duration": 58263,
    "start_time": "2023-03-18T10:53:52.041Z"
   },
   {
    "duration": 237,
    "start_time": "2023-03-18T10:54:50.306Z"
   },
   {
    "duration": 22,
    "start_time": "2023-03-18T10:55:21.650Z"
   },
   {
    "duration": 5,
    "start_time": "2023-03-18T11:15:23.091Z"
   },
   {
    "duration": 62,
    "start_time": "2023-03-18T11:15:35.687Z"
   },
   {
    "duration": 13,
    "start_time": "2023-03-18T11:15:57.014Z"
   },
   {
    "duration": 11,
    "start_time": "2023-03-18T11:20:09.096Z"
   },
   {
    "duration": 22,
    "start_time": "2023-03-18T11:21:05.903Z"
   },
   {
    "duration": 24,
    "start_time": "2023-03-18T11:24:39.125Z"
   },
   {
    "duration": 17,
    "start_time": "2023-03-18T11:26:01.575Z"
   },
   {
    "duration": 60,
    "start_time": "2023-03-18T11:26:34.197Z"
   },
   {
    "duration": 95,
    "start_time": "2023-03-18T11:30:51.676Z"
   },
   {
    "duration": 40,
    "start_time": "2023-03-18T11:33:10.066Z"
   },
   {
    "duration": 759,
    "start_time": "2023-03-18T11:35:09.888Z"
   },
   {
    "duration": 121,
    "start_time": "2023-03-18T11:38:36.997Z"
   },
   {
    "duration": 107,
    "start_time": "2023-03-18T11:38:50.075Z"
   },
   {
    "duration": 92,
    "start_time": "2023-03-18T11:41:13.871Z"
   },
   {
    "duration": 42,
    "start_time": "2023-03-18T11:41:46.459Z"
   },
   {
    "duration": 742,
    "start_time": "2023-03-18T11:41:53.883Z"
   },
   {
    "duration": 7,
    "start_time": "2023-03-18T11:45:49.965Z"
   },
   {
    "duration": 5,
    "start_time": "2023-03-18T11:45:56.070Z"
   },
   {
    "duration": 5,
    "start_time": "2023-03-18T11:46:04.310Z"
   },
   {
    "duration": 10,
    "start_time": "2023-03-18T11:46:09.955Z"
   },
   {
    "duration": 7,
    "start_time": "2023-03-18T11:46:15.510Z"
   },
   {
    "duration": 10,
    "start_time": "2023-03-18T11:46:33.789Z"
   },
   {
    "duration": 10,
    "start_time": "2023-03-18T11:46:53.586Z"
   },
   {
    "duration": 54,
    "start_time": "2023-03-18T11:47:13.221Z"
   },
   {
    "duration": 7,
    "start_time": "2023-03-18T11:47:23.173Z"
   },
   {
    "duration": 208,
    "start_time": "2023-03-18T11:47:28.254Z"
   },
   {
    "duration": 50,
    "start_time": "2023-03-18T11:47:44.755Z"
   },
   {
    "duration": 12,
    "start_time": "2023-03-18T11:49:13.758Z"
   },
   {
    "duration": 13,
    "start_time": "2023-03-18T11:51:32.986Z"
   },
   {
    "duration": 388,
    "start_time": "2023-03-18T11:51:39.452Z"
   },
   {
    "duration": 9754,
    "start_time": "2023-03-18T11:52:53.608Z"
   },
   {
    "duration": 55622,
    "start_time": "2023-03-18T11:54:23.009Z"
   },
   {
    "duration": 525,
    "start_time": "2023-03-18T12:01:00.142Z"
   },
   {
    "duration": 490,
    "start_time": "2023-03-18T12:02:08.182Z"
   },
   {
    "duration": 59961,
    "start_time": "2023-03-18T12:03:57.092Z"
   },
   {
    "duration": 150,
    "start_time": "2023-03-18T12:08:46.078Z"
   },
   {
    "duration": 19,
    "start_time": "2023-03-18T12:12:55.624Z"
   },
   {
    "duration": 2,
    "start_time": "2023-03-18T12:14:01.656Z"
   },
   {
    "duration": 1343,
    "start_time": "2023-03-18T12:19:08.065Z"
   },
   {
    "duration": 60,
    "start_time": "2023-03-18T12:19:09.411Z"
   },
   {
    "duration": 12,
    "start_time": "2023-03-18T12:19:09.473Z"
   },
   {
    "duration": 22,
    "start_time": "2023-03-18T12:19:09.487Z"
   },
   {
    "duration": 14,
    "start_time": "2023-03-18T12:19:09.510Z"
   },
   {
    "duration": 57,
    "start_time": "2023-03-18T12:19:09.525Z"
   },
   {
    "duration": 25,
    "start_time": "2023-03-18T12:19:09.583Z"
   },
   {
    "duration": 15,
    "start_time": "2023-03-18T12:19:09.610Z"
   },
   {
    "duration": 78,
    "start_time": "2023-03-18T12:19:09.627Z"
   },
   {
    "duration": 56,
    "start_time": "2023-03-18T12:19:09.709Z"
   },
   {
    "duration": 128,
    "start_time": "2023-03-18T12:19:09.766Z"
   },
   {
    "duration": 792,
    "start_time": "2023-03-18T12:19:09.896Z"
   },
   {
    "duration": 143,
    "start_time": "2023-03-18T12:19:10.690Z"
   },
   {
    "duration": 37,
    "start_time": "2023-03-18T12:19:10.835Z"
   },
   {
    "duration": 207,
    "start_time": "2023-03-18T12:19:10.873Z"
   },
   {
    "duration": 769,
    "start_time": "2023-03-18T12:19:11.081Z"
   },
   {
    "duration": 13,
    "start_time": "2023-03-18T12:19:11.851Z"
   },
   {
    "duration": 8,
    "start_time": "2023-03-18T12:19:11.865Z"
   },
   {
    "duration": 4,
    "start_time": "2023-03-18T12:19:11.875Z"
   },
   {
    "duration": 8,
    "start_time": "2023-03-18T12:19:11.882Z"
   },
   {
    "duration": 6,
    "start_time": "2023-03-18T12:19:11.892Z"
   },
   {
    "duration": 65,
    "start_time": "2023-03-18T12:19:11.900Z"
   },
   {
    "duration": 136,
    "start_time": "2023-03-18T12:19:11.967Z"
   },
   {
    "duration": 12,
    "start_time": "2023-03-18T12:19:12.105Z"
   },
   {
    "duration": 488,
    "start_time": "2023-03-18T12:19:12.119Z"
   },
   {
    "duration": 9986,
    "start_time": "2023-03-18T12:19:12.609Z"
   },
   {
    "duration": 56126,
    "start_time": "2023-03-18T12:19:22.597Z"
   },
   {
    "duration": 546,
    "start_time": "2023-03-18T12:20:18.726Z"
   },
   {
    "duration": 595,
    "start_time": "2023-03-18T12:20:19.274Z"
   },
   {
    "duration": 57510,
    "start_time": "2023-03-18T12:20:19.871Z"
   },
   {
    "duration": 146,
    "start_time": "2023-03-18T12:21:17.383Z"
   },
   {
    "duration": 38,
    "start_time": "2023-03-18T12:21:17.531Z"
   },
   {
    "duration": 54,
    "start_time": "2023-03-27T16:14:27.698Z"
   },
   {
    "duration": 49,
    "start_time": "2023-03-27T16:18:46.043Z"
   },
   {
    "duration": 1563,
    "start_time": "2023-03-27T16:18:56.687Z"
   },
   {
    "duration": 99,
    "start_time": "2023-03-27T16:18:58.353Z"
   },
   {
    "duration": 18,
    "start_time": "2023-03-27T16:19:00.288Z"
   },
   {
    "duration": 30,
    "start_time": "2023-03-27T16:19:01.810Z"
   },
   {
    "duration": 18,
    "start_time": "2023-03-27T16:19:03.353Z"
   },
   {
    "duration": 22,
    "start_time": "2023-03-27T16:19:06.121Z"
   },
   {
    "duration": 22,
    "start_time": "2023-03-27T16:19:09.546Z"
   },
   {
    "duration": 15,
    "start_time": "2023-03-27T16:19:13.016Z"
   },
   {
    "duration": 55,
    "start_time": "2023-03-27T16:29:20.344Z"
   },
   {
    "duration": 43,
    "start_time": "2023-03-27T16:29:58.861Z"
   },
   {
    "duration": 39,
    "start_time": "2023-03-27T16:30:05.929Z"
   },
   {
    "duration": 719,
    "start_time": "2023-03-27T16:30:07.895Z"
   },
   {
    "duration": 19,
    "start_time": "2023-03-27T16:39:21.140Z"
   },
   {
    "duration": 14,
    "start_time": "2023-03-27T16:49:06.412Z"
   },
   {
    "duration": 58,
    "start_time": "2023-03-27T16:51:50.932Z"
   },
   {
    "duration": 73,
    "start_time": "2023-03-27T16:54:13.885Z"
   },
   {
    "duration": 146,
    "start_time": "2023-03-27T16:54:25.072Z"
   },
   {
    "duration": 95,
    "start_time": "2023-03-27T16:54:29.308Z"
   },
   {
    "duration": 48,
    "start_time": "2023-03-27T16:54:31.484Z"
   },
   {
    "duration": 831,
    "start_time": "2023-03-27T16:54:33.204Z"
   },
   {
    "duration": 10,
    "start_time": "2023-03-27T16:54:37.635Z"
   },
   {
    "duration": 11,
    "start_time": "2023-03-27T16:54:38.330Z"
   },
   {
    "duration": 5,
    "start_time": "2023-03-27T16:54:40.233Z"
   },
   {
    "duration": 10,
    "start_time": "2023-03-27T16:54:41.783Z"
   },
   {
    "duration": 6,
    "start_time": "2023-03-27T16:54:43.251Z"
   },
   {
    "duration": 73,
    "start_time": "2023-03-27T16:54:44.047Z"
   },
   {
    "duration": 49,
    "start_time": "2023-03-27T16:54:46.430Z"
   },
   {
    "duration": 14,
    "start_time": "2023-03-27T16:54:49.031Z"
   },
   {
    "duration": 456,
    "start_time": "2023-03-27T16:54:51.528Z"
   },
   {
    "duration": 11345,
    "start_time": "2023-03-27T16:54:56.056Z"
   },
   {
    "duration": 732,
    "start_time": "2023-03-27T16:56:12.272Z"
   },
   {
    "duration": 11390,
    "start_time": "2023-03-27T16:56:13.007Z"
   },
   {
    "duration": 61663,
    "start_time": "2023-03-27T16:56:24.405Z"
   },
   {
    "duration": 649,
    "start_time": "2023-03-27T16:57:38.592Z"
   },
   {
    "duration": 538,
    "start_time": "2023-03-27T16:59:37.825Z"
   },
   {
    "duration": 61608,
    "start_time": "2023-03-27T16:59:41.946Z"
   },
   {
    "duration": 29,
    "start_time": "2023-03-27T17:04:15.831Z"
   },
   {
    "duration": 8,
    "start_time": "2023-03-27T17:08:00.938Z"
   },
   {
    "duration": 58,
    "start_time": "2023-03-27T17:10:15.800Z"
   },
   {
    "duration": 11,
    "start_time": "2023-03-27T17:14:32.987Z"
   },
   {
    "duration": 7,
    "start_time": "2023-03-27T17:17:44.402Z"
   },
   {
    "duration": 54,
    "start_time": "2023-03-27T17:21:27.287Z"
   },
   {
    "duration": 12,
    "start_time": "2023-03-27T17:23:14.399Z"
   },
   {
    "duration": 378,
    "start_time": "2023-03-27T17:23:16.035Z"
   },
   {
    "duration": 53,
    "start_time": "2023-03-27T17:23:43.477Z"
   },
   {
    "duration": 10564,
    "start_time": "2023-03-27T17:30:44.393Z"
   },
   {
    "duration": 20,
    "start_time": "2023-03-27T17:33:12.716Z"
   },
   {
    "duration": 60857,
    "start_time": "2023-03-27T17:33:54.592Z"
   },
   {
    "duration": 31,
    "start_time": "2023-03-27T17:36:32.694Z"
   },
   {
    "duration": 827,
    "start_time": "2023-03-27T17:36:57.177Z"
   },
   {
    "duration": 7,
    "start_time": "2023-03-27T17:38:46.391Z"
   },
   {
    "duration": 502,
    "start_time": "2023-03-27T17:39:22.739Z"
   },
   {
    "duration": 38,
    "start_time": "2023-03-27T17:40:08.120Z"
   },
   {
    "duration": 501,
    "start_time": "2023-03-27T17:40:14.505Z"
   },
   {
    "duration": 6,
    "start_time": "2023-03-27T17:40:16.096Z"
   },
   {
    "duration": 8,
    "start_time": "2023-03-27T17:41:47.093Z"
   },
   {
    "duration": 60963,
    "start_time": "2023-03-27T17:42:14.681Z"
   },
   {
    "duration": 86,
    "start_time": "2023-03-27T17:46:03.379Z"
   },
   {
    "duration": 35,
    "start_time": "2023-03-27T17:46:20.281Z"
   },
   {
    "duration": 43,
    "start_time": "2023-03-27T17:48:37.348Z"
   },
   {
    "duration": 276,
    "start_time": "2023-03-27T17:50:22.779Z"
   },
   {
    "duration": 31,
    "start_time": "2023-03-27T17:56:43.933Z"
   },
   {
    "duration": 39,
    "start_time": "2023-03-27T17:57:57.192Z"
   },
   {
    "duration": 29,
    "start_time": "2023-03-27T18:06:58.883Z"
   },
   {
    "duration": 202,
    "start_time": "2023-03-27T18:16:51.823Z"
   },
   {
    "duration": 250,
    "start_time": "2023-03-27T18:18:58.432Z"
   },
   {
    "duration": 760,
    "start_time": "2023-03-27T18:20:47.641Z"
   },
   {
    "duration": 22,
    "start_time": "2023-03-27T18:21:06.164Z"
   },
   {
    "duration": 175,
    "start_time": "2023-03-27T18:24:07.792Z"
   },
   {
    "duration": 166,
    "start_time": "2023-03-27T18:27:09.296Z"
   },
   {
    "duration": 176,
    "start_time": "2023-03-27T18:27:33.415Z"
   },
   {
    "duration": 191,
    "start_time": "2023-03-27T18:27:49.812Z"
   },
   {
    "duration": 18,
    "start_time": "2023-03-27T18:30:58.938Z"
   },
   {
    "duration": 16,
    "start_time": "2023-03-27T18:31:07.120Z"
   },
   {
    "duration": 178,
    "start_time": "2023-03-27T18:32:37.247Z"
   },
   {
    "duration": 175,
    "start_time": "2023-03-27T18:36:04.666Z"
   },
   {
    "duration": 14,
    "start_time": "2023-03-27T18:39:51.643Z"
   },
   {
    "duration": 186,
    "start_time": "2023-03-27T18:40:49.411Z"
   },
   {
    "duration": 172,
    "start_time": "2023-03-27T18:41:14.757Z"
   },
   {
    "duration": 172,
    "start_time": "2023-03-27T18:42:04.284Z"
   },
   {
    "duration": 39,
    "start_time": "2023-03-27T18:43:37.111Z"
   },
   {
    "duration": 176,
    "start_time": "2023-03-27T18:45:26.748Z"
   },
   {
    "duration": 1357,
    "start_time": "2023-03-27T18:48:02.478Z"
   },
   {
    "duration": 52,
    "start_time": "2023-03-27T18:48:03.837Z"
   },
   {
    "duration": 10,
    "start_time": "2023-03-27T18:48:03.891Z"
   },
   {
    "duration": 19,
    "start_time": "2023-03-27T18:48:03.902Z"
   },
   {
    "duration": 12,
    "start_time": "2023-03-27T18:48:03.923Z"
   },
   {
    "duration": 19,
    "start_time": "2023-03-27T18:48:03.937Z"
   },
   {
    "duration": 21,
    "start_time": "2023-03-27T18:48:03.957Z"
   },
   {
    "duration": 14,
    "start_time": "2023-03-27T18:48:04.003Z"
   },
   {
    "duration": 61,
    "start_time": "2023-03-27T18:48:04.018Z"
   },
   {
    "duration": 24,
    "start_time": "2023-03-27T18:48:04.102Z"
   },
   {
    "duration": 175,
    "start_time": "2023-03-27T18:48:04.128Z"
   },
   {
    "duration": 129,
    "start_time": "2023-03-27T18:48:04.305Z"
   },
   {
    "duration": 7,
    "start_time": "2023-03-27T18:48:04.436Z"
   },
   {
    "duration": 709,
    "start_time": "2023-03-27T18:48:04.446Z"
   },
   {
    "duration": 64,
    "start_time": "2023-03-27T18:48:05.157Z"
   },
   {
    "duration": 137,
    "start_time": "2023-03-27T18:48:05.223Z"
   },
   {
    "duration": 43,
    "start_time": "2023-03-27T18:48:05.361Z"
   },
   {
    "duration": 102,
    "start_time": "2023-03-27T18:48:05.405Z"
   },
   {
    "duration": 216,
    "start_time": "2023-03-27T18:48:05.509Z"
   },
   {
    "duration": 7,
    "start_time": "2023-03-27T18:48:05.727Z"
   },
   {
    "duration": 698,
    "start_time": "2023-03-27T18:48:05.735Z"
   },
   {
    "duration": 56,
    "start_time": "2023-03-27T18:48:06.435Z"
   },
   {
    "duration": 6,
    "start_time": "2023-03-27T18:48:06.502Z"
   },
   {
    "duration": 10,
    "start_time": "2023-03-27T18:48:06.509Z"
   },
   {
    "duration": 6,
    "start_time": "2023-03-27T18:48:06.520Z"
   },
   {
    "duration": 16,
    "start_time": "2023-03-27T18:48:06.527Z"
   },
   {
    "duration": 6,
    "start_time": "2023-03-27T18:48:06.545Z"
   },
   {
    "duration": 52,
    "start_time": "2023-03-27T18:48:06.553Z"
   },
   {
    "duration": 95,
    "start_time": "2023-03-27T18:48:06.608Z"
   },
   {
    "duration": 132,
    "start_time": "2023-03-27T18:48:06.706Z"
   },
   {
    "duration": 7,
    "start_time": "2023-03-27T18:48:06.839Z"
   },
   {
    "duration": 11,
    "start_time": "2023-03-27T18:48:06.847Z"
   },
   {
    "duration": 406,
    "start_time": "2023-03-27T18:48:06.860Z"
   },
   {
    "duration": 60,
    "start_time": "2023-03-27T18:48:07.267Z"
   },
   {
    "duration": 9416,
    "start_time": "2023-03-27T18:48:07.329Z"
   },
   {
    "duration": 14,
    "start_time": "2023-03-27T18:48:16.747Z"
   },
   {
    "duration": 53599,
    "start_time": "2023-03-27T18:48:16.763Z"
   },
   {
    "duration": 29,
    "start_time": "2023-03-27T18:49:10.364Z"
   },
   {
    "duration": 509,
    "start_time": "2023-03-27T18:49:10.403Z"
   },
   {
    "duration": 92,
    "start_time": "2023-03-27T18:49:10.914Z"
   },
   {
    "duration": 518,
    "start_time": "2023-03-27T18:49:11.103Z"
   },
   {
    "duration": 8,
    "start_time": "2023-03-27T18:49:11.623Z"
   },
   {
    "duration": 54286,
    "start_time": "2023-03-27T18:49:11.632Z"
   },
   {
    "duration": 29,
    "start_time": "2023-03-27T18:50:05.920Z"
   },
   {
    "duration": 256,
    "start_time": "2023-03-27T18:50:05.950Z"
   },
   {
    "duration": 24,
    "start_time": "2023-03-27T18:50:06.207Z"
   },
   {
    "duration": 197,
    "start_time": "2023-03-27T18:50:06.232Z"
   },
   {
    "duration": 175,
    "start_time": "2023-03-27T18:54:12.500Z"
   }
  ],
  "kernelspec": {
   "display_name": "Python 3 (ipykernel)",
   "language": "python",
   "name": "python3"
  },
  "language_info": {
   "codemirror_mode": {
    "name": "ipython",
    "version": 3
   },
   "file_extension": ".py",
   "mimetype": "text/x-python",
   "name": "python",
   "nbconvert_exporter": "python",
   "pygments_lexer": "ipython3",
   "version": "3.9.7"
  },
  "toc": {
   "base_numbering": 1,
   "nav_menu": {},
   "number_sections": true,
   "sideBar": true,
   "skip_h1_title": true,
   "title_cell": "Содержание",
   "title_sidebar": "Contents",
   "toc_cell": true,
   "toc_position": {
    "height": "calc(100% - 180px)",
    "left": "10px",
    "top": "150px",
    "width": "276.95px"
   },
   "toc_section_display": true,
   "toc_window_display": true
  }
 },
 "nbformat": 4,
 "nbformat_minor": 2
}
